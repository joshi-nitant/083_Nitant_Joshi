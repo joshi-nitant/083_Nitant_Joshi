{
  "nbformat": 4,
  "nbformat_minor": 0,
  "metadata": {
    "colab": {
      "name": "083-2-linear-regression-pytorch.ipynb",
      "provenance": [],
      "include_colab_link": true
    },
    "kernelspec": {
      "display_name": "Python 3 (ipykernel)",
      "language": "python",
      "name": "python3"
    },
    "language_info": {
      "codemirror_mode": {
        "name": "ipython",
        "version": 3
      },
      "file_extension": ".py",
      "mimetype": "text/x-python",
      "name": "python",
      "nbconvert_exporter": "python",
      "pygments_lexer": "ipython3",
      "version": "3.9.7"
    }
  },
  "cells": [
    {
      "cell_type": "markdown",
      "metadata": {
        "id": "view-in-github",
        "colab_type": "text"
      },
      "source": [
        "<a href=\"https://colab.research.google.com/github/joshi-nitant/083_Nitant_Joshi/blob/master/Lab5/083_2_linear_regression_pytorch.ipynb\" target=\"_parent\"><img src=\"https://colab.research.google.com/assets/colab-badge.svg\" alt=\"Open In Colab\"/></a>"
      ]
    },
    {
      "cell_type": "code",
      "metadata": {
        "_cell_guid": "79c7e3d0-c299-4dcb-8224-4455121ee9b0",
        "_uuid": "d629ff2d2480ee46fbb7e2d37f6b5fab8052498a",
        "id": "v0BtAX1--7l_"
      },
      "source": [
        "# Import Numpy & PyTorch\n",
        "import numpy as np\n",
        "import torch"
      ],
      "execution_count": 1,
      "outputs": []
    },
    {
      "cell_type": "markdown",
      "metadata": {
        "_uuid": "ecc6e79cdfb6a8ca882895ccc895b61b960b0a04",
        "id": "i1HSrBDb-7t9"
      },
      "source": [
        "## Linear Regression Model using PyTorch built-ins\n",
        "\n",
        "Let's re-implement the same model using some built-in functions and classes from PyTorch.\n",
        "\n",
        "And now using two different targets: Apples and Oranges"
      ]
    },
    {
      "cell_type": "code",
      "metadata": {
        "_uuid": "ce66cf0d09a3f38bf2f00ea40418c56d98f1f814",
        "id": "iXiEK54j-7t-"
      },
      "source": [
        "# Imports\n",
        "import torch.nn as nn"
      ],
      "execution_count": 2,
      "outputs": []
    },
    {
      "cell_type": "code",
      "metadata": {
        "_uuid": "74bb18bd01ac809079eeb8d05695206e8ba02069",
        "id": "wCsxgTWO-7uM"
      },
      "source": [
        "# Input (temp, rainfall, humidity)\n",
        "inputs = np.array([[73, 67, 43], [91, 88, 64], [87, 134, 58], [102, 43, 37], [69, 96, 70], [73, 67, 43], [91, 88, 64], [87, 134, 58], [102, 43, 37], [69, 96, 70], [73, 67, 43], [91, 88, 64], [87, 134, 58], [102, 43, 37], [69, 96, 70]], dtype='float32')\n",
        "# Targets (apples, oranges)\n",
        "targets = np.array([[56, 70], [81, 101], [119, 133], [22, 37], [103, 119], \n",
        "                    [56, 70], [81, 101], [119, 133], [22, 37], [103, 119], \n",
        "                    [56, 70], [81, 101], [119, 133], [22, 37], [103, 119]], dtype='float32')"
      ],
      "execution_count": 3,
      "outputs": []
    },
    {
      "cell_type": "code",
      "metadata": {
        "_uuid": "d94b355f55250e9c7dcff668920f02d7c5c04925",
        "id": "nJRlm4-N-7uY"
      },
      "source": [
        "inputs = torch.from_numpy(inputs)\n",
        "targets = torch.from_numpy(targets)"
      ],
      "execution_count": 4,
      "outputs": []
    },
    {
      "cell_type": "markdown",
      "metadata": {
        "_uuid": "a0665466eb5401f40a816b323a34450b2c052c41",
        "id": "O6JT5Ng6-7uj"
      },
      "source": [
        "### Dataset and DataLoader\n",
        "\n",
        "We'll create a `TensorDataset`, which allows access to rows from `inputs` and `targets` as tuples. We'll also create a DataLoader, to split the data into batches while training. It also provides other utilities like shuffling and sampling."
      ]
    },
    {
      "cell_type": "code",
      "metadata": {
        "_uuid": "206f5fd0473386476b23477bf38d2c327b6376c9",
        "id": "iGYdbuWc-7ul"
      },
      "source": [
        "# Import tensor dataset & data loader\n",
        "from torch.utils.data import TensorDataset, DataLoader"
      ],
      "execution_count": 6,
      "outputs": []
    },
    {
      "cell_type": "code",
      "metadata": {
        "_uuid": "c47a4f2f86fda3918094e01cf7ab0698bbb5acc7",
        "colab": {
          "base_uri": "https://localhost:8080/"
        },
        "id": "LY_cq6Bf-7ux",
        "outputId": "868d19c0-2214-4b47-edc5-76e42d36b94b"
      },
      "source": [
        "# Define dataset\n",
        "dataset = TensorDataset(inputs, targets)\n",
        "dataset[0:3]"
      ],
      "execution_count": 7,
      "outputs": [
        {
          "output_type": "execute_result",
          "data": {
            "text/plain": [
              "(tensor([[ 73.,  67.,  43.],\n",
              "         [ 91.,  88.,  64.],\n",
              "         [ 87., 134.,  58.]]), tensor([[ 56.,  70.],\n",
              "         [ 81., 101.],\n",
              "         [119., 133.]]))"
            ]
          },
          "metadata": {},
          "execution_count": 7
        }
      ]
    },
    {
      "cell_type": "code",
      "metadata": {
        "_uuid": "0a2f69126319d738b82ae67d5d404ecd6161bfac",
        "colab": {
          "base_uri": "https://localhost:8080/"
        },
        "id": "I-_dMpco-7u-",
        "outputId": "63282800-68ee-45e3-c801-7173ebd23c17"
      },
      "source": [
        "\n",
        "# Define data loader\n",
        "batch_size = 5\n",
        "DL = DataLoader(dataset, batch_size, shuffle=True)\n",
        "next(iter(DL))"
      ],
      "execution_count": 8,
      "outputs": [
        {
          "output_type": "execute_result",
          "data": {
            "text/plain": [
              "[tensor([[ 69.,  96.,  70.],\n",
              "         [102.,  43.,  37.],\n",
              "         [ 91.,  88.,  64.],\n",
              "         [ 69.,  96.,  70.],\n",
              "         [ 73.,  67.,  43.]]), tensor([[103., 119.],\n",
              "         [ 22.,  37.],\n",
              "         [ 81., 101.],\n",
              "         [103., 119.],\n",
              "         [ 56.,  70.]])]"
            ]
          },
          "metadata": {},
          "execution_count": 8
        }
      ]
    },
    {
      "cell_type": "markdown",
      "metadata": {
        "_uuid": "276a262e1b9e3a048bcd32989013f9c501c59037",
        "id": "Dq8gUbVx-7vK"
      },
      "source": [
        "### nn.Linear\n",
        "Instead of initializing the weights & biases manually, we can define the model using `nn.Linear`."
      ]
    },
    {
      "cell_type": "code",
      "metadata": {
        "_uuid": "59da3506559a0640d80d18f77b02726a1757be2f",
        "colab": {
          "base_uri": "https://localhost:8080/"
        },
        "id": "sKa873ZD-7vN",
        "outputId": "6bb01354-ccc5-4958-8b5e-3cb2b262992f"
      },
      "source": [
        "# Define model\n",
        "final_model = nn.Linear(3, 2)\n",
        "print(final_model.weight, end=\"\\n---------\\n\")\n",
        "print(final_model.bias)"
      ],
      "execution_count": 9,
      "outputs": [
        {
          "output_type": "stream",
          "name": "stdout",
          "text": [
            "Parameter containing:\n",
            "tensor([[0.0748, 0.0456, 0.1499],\n",
            "        [0.0955, 0.3244, 0.3621]], requires_grad=True)\n",
            "---------\n",
            "Parameter containing:\n",
            "tensor([-0.4183,  0.5695], requires_grad=True)\n"
          ]
        }
      ]
    },
    {
      "cell_type": "markdown",
      "metadata": {
        "_uuid": "b3a4a8c499a4680f2533329712de034671dd1cdd",
        "id": "rku14lz3-7vX"
      },
      "source": [
        "### Optimizer\n",
        "Instead of manually manipulating the weights & biases using gradients, we can use the optimizer `optim.SGD`."
      ]
    },
    {
      "cell_type": "code",
      "metadata": {
        "_uuid": "1848398bd1ced8c25a7bb55612cf32a774500280",
        "id": "Yd4H-T8g-7va"
      },
      "source": [
        "# Define optimizer\n",
        "opt = torch.optim.SGD(final_model.parameters(), lr=1e-5)"
      ],
      "execution_count": 10,
      "outputs": []
    },
    {
      "cell_type": "markdown",
      "metadata": {
        "_uuid": "28cbe62be55010bd11b31d819cff38da5a772b18",
        "id": "V2ktEA-C-7vl"
      },
      "source": [
        "### Loss Function\n",
        "Instead of defining a loss function manually, we can use the built-in loss function `mse_loss`."
      ]
    },
    {
      "cell_type": "code",
      "metadata": {
        "_uuid": "69d7f4e8e27ccd077f711da27f8bede8aa711893",
        "id": "TF2xmzgO-7vo"
      },
      "source": [
        "# Import nn.functional\n",
        "import torch.nn.functional as F"
      ],
      "execution_count": 11,
      "outputs": []
    },
    {
      "cell_type": "code",
      "metadata": {
        "_uuid": "a02ff888ed4be720fd9ca376022d8fdcf2559683",
        "id": "hSgxvr8N-7vz"
      },
      "source": [
        "# Define loss function\n",
        "loss_fn = F.mse_loss"
      ],
      "execution_count": 13,
      "outputs": []
    },
    {
      "cell_type": "code",
      "metadata": {
        "_uuid": "a540adf76725ea9968025f6c029fdd251bdada6c",
        "colab": {
          "base_uri": "https://localhost:8080/"
        },
        "id": "9vyVL5io-7wA",
        "outputId": "4ce0ac14-b533-45a3-d37e-f5ad9d2de690"
      },
      "source": [
        "loss = loss_fn(final_model(inputs) , targets)\n",
        "print(loss)"
      ],
      "execution_count": 14,
      "outputs": [
        {
          "output_type": "stream",
          "name": "stdout",
          "text": [
            "tensor(3092.8308, grad_fn=<MseLossBackward>)\n"
          ]
        }
      ]
    },
    {
      "cell_type": "markdown",
      "metadata": {
        "_uuid": "e833614a69ff18c554a3d89f643ae2f11e0260f6",
        "id": "9jbPdkiO-7wM"
      },
      "source": [
        "### Train the model\n",
        "\n",
        "We are ready to train the model now. We can define a utility function `fit` which trains the model for a given number of epochs."
      ]
    },
    {
      "cell_type": "code",
      "metadata": {
        "_uuid": "128bc7260221f5338edf8b503c75f0c7d1cce7e8",
        "id": "zDnWui7g-7wP"
      },
      "source": [
        "# Define a utility function to train the model\n",
        "def fit(num_epochs, final_model, loss_fn, opt):\n",
        "    for epoch in range(num_epochs):\n",
        "        for xb,yb in DL:\n",
        "            # Generate predictions\n",
        "            pred = final_model(xb)\n",
        "            loss = loss_fn(pred,yb)\n",
        "            # Perform gradient descent\n",
        "            loss.backward()\n",
        "            opt.step()\n",
        "            opt.zero_grad()\n",
        "    print('Training loss: ', loss_fn(final_model(inputs), targets))\n"
      ],
      "execution_count": 15,
      "outputs": []
    },
    {
      "cell_type": "code",
      "metadata": {
        "_uuid": "ae8ca4686cf6a68f6c9ca93bf3d227abe96c2201",
        "colab": {
          "base_uri": "https://localhost:8080/"
        },
        "id": "Gd8tiT_q-7wa",
        "outputId": "f1fb47a9-301d-4ed9-9fab-0de6fb1b0350"
      },
      "source": [
        "\n",
        "# Train the model for 100 epochs\n",
        "fit(100 , final_model , loss_fn, opt)"
      ],
      "execution_count": 16,
      "outputs": [
        {
          "output_type": "stream",
          "name": "stdout",
          "text": [
            "Training loss:  tensor(16.1018, grad_fn=<MseLossBackward>)\n"
          ]
        }
      ]
    },
    {
      "cell_type": "code",
      "metadata": {
        "_uuid": "32588a47d0478772a1f08fa55874a322630bd0b6",
        "colab": {
          "base_uri": "https://localhost:8080/"
        },
        "id": "c3Bf-Emn-7wj",
        "outputId": "daae3d64-8985-4670-8b64-2cd517437097"
      },
      "source": [
        "\n",
        "# Generate predictions\n",
        "preds = final_model(inputs)\n",
        "preds"
      ],
      "execution_count": 17,
      "outputs": [
        {
          "output_type": "execute_result",
          "data": {
            "text/plain": [
              "tensor([[ 58.3027,  71.3401],\n",
              "        [ 81.4444,  98.9748],\n",
              "        [118.3745, 134.7551],\n",
              "        [ 28.1233,  42.5342],\n",
              "        [ 96.4180, 113.1091],\n",
              "        [ 58.3027,  71.3401],\n",
              "        [ 81.4444,  98.9748],\n",
              "        [118.3745, 134.7551],\n",
              "        [ 28.1233,  42.5342],\n",
              "        [ 96.4180, 113.1091],\n",
              "        [ 58.3027,  71.3401],\n",
              "        [ 81.4444,  98.9748],\n",
              "        [118.3745, 134.7551],\n",
              "        [ 28.1233,  42.5342],\n",
              "        [ 96.4180, 113.1091]], grad_fn=<AddmmBackward>)"
            ]
          },
          "metadata": {},
          "execution_count": 17
        }
      ]
    },
    {
      "cell_type": "code",
      "metadata": {
        "_uuid": "12d757c0f37c2e3af65cf9d4b59878cc10c65acf",
        "colab": {
          "base_uri": "https://localhost:8080/"
        },
        "id": "_gDGmiHl-7wr",
        "outputId": "69178874-dc2f-431f-9318-3b52947c1faf"
      },
      "source": [
        "# Compare with targets\n",
        "targets"
      ],
      "execution_count": 18,
      "outputs": [
        {
          "output_type": "execute_result",
          "data": {
            "text/plain": [
              "tensor([[ 56.,  70.],\n",
              "        [ 81., 101.],\n",
              "        [119., 133.],\n",
              "        [ 22.,  37.],\n",
              "        [103., 119.],\n",
              "        [ 56.,  70.],\n",
              "        [ 81., 101.],\n",
              "        [119., 133.],\n",
              "        [ 22.,  37.],\n",
              "        [103., 119.],\n",
              "        [ 56.,  70.],\n",
              "        [ 81., 101.],\n",
              "        [119., 133.],\n",
              "        [ 22.,  37.],\n",
              "        [103., 119.]])"
            ]
          },
          "metadata": {},
          "execution_count": 18
        }
      ]
    },
    {
      "cell_type": "markdown",
      "metadata": {
        "_uuid": "2448d9832722f4f2813f8bd80b91daefd901dc2e",
        "id": "b9nvUidI-7xD"
      },
      "source": [
        "Now we can define the model, optimizer and loss function exactly as before."
      ]
    },
    {
      "cell_type": "code",
      "metadata": {
        "_uuid": "e94de6868c76803a998c1c1934ed229c826f3b8c",
        "colab": {
          "base_uri": "https://localhost:8080/"
        },
        "id": "d3esiKz3-7xT",
        "outputId": "141f2443-36ce-4665-b521-d76cc9af065c"
      },
      "source": [
        "fit(100 , final_model , loss_fn, opt)"
      ],
      "execution_count": 19,
      "outputs": [
        {
          "output_type": "stream",
          "name": "stdout",
          "text": [
            "Training loss:  tensor(4.6856, grad_fn=<MseLossBackward>)\n"
          ]
        }
      ]
    },
    {
      "cell_type": "markdown",
      "metadata": {
        "id": "eAyCq48TMlWJ"
      },
      "source": [
        "## Exercise 1:\n",
        " Try Linear Regression just using numpy (Without Tensorflow/Pytorch or other torch library). You can optionally use sklearn (if you want)\n",
        " \n",
        " \n",
        "## Exercise 2:\n",
        " Try Linear regression on same prediction data using Tensorflow\n",
        "\n",
        " "
      ]
    },
    {
      "cell_type": "code",
      "metadata": {
        "id": "7H6IHARdsuRZ"
      },
      "source": [
        "# Input (temp, rainfall, humidity)\n",
        "inputs = np.array([[73, 67, 43], [91, 88, 64], [87, 134, 58], [102, 43, 37], [69, 96, 70], [73, 67, 43], [91, 88, 64], [87, 134, 58], [102, 43, 37], [69, 96, 70], [73, 67, 43], [91, 88, 64], [87, 134, 58], [102, 43, 37], [69, 96, 70]], dtype='float32')\n",
        "# Targets (apples, oranges)\n",
        "targets = np.array([[56, 70], [81, 101], [119, 133], [22, 37], [103, 119], \n",
        "                    [56, 70], [81, 101], [119, 133], [22, 37], [103, 119], \n",
        "                    [56, 70], [81, 101], [119, 133], [22, 37], [103, 119]], dtype='float32')\n",
        "\n",
        "x_shape = inputs.shape"
      ],
      "execution_count": 20,
      "outputs": []
    },
    {
      "cell_type": "code",
      "metadata": {
        "colab": {
          "base_uri": "https://localhost:8080/"
        },
        "id": "NSRTrYUFsuRa",
        "outputId": "fc156cc7-2835-408d-abe2-afa1488cdfc1"
      },
      "source": [
        "\n",
        "# weights and biases\n",
        "weights = np.random.rand(2,3)\n",
        "biases = np.random.rand(15,2)\n",
        "print(\"Weights:\",weights,sep='\\n')\n",
        "print(\"Biases:\",biases,sep=\"\\n\")"
      ],
      "execution_count": 21,
      "outputs": [
        {
          "output_type": "stream",
          "name": "stdout",
          "text": [
            "Weights:\n",
            "[[0.60591828 0.00854811 0.43183106]\n",
            " [0.45222619 0.57146846 0.68340591]]\n",
            "Biases:\n",
            "[[0.62451996 0.17250447]\n",
            " [0.34991926 0.5053128 ]\n",
            " [0.14439686 0.41991325]\n",
            " [0.79733736 0.9854972 ]\n",
            " [0.23851905 0.28481634]\n",
            " [0.8562788  0.10744575]\n",
            " [0.83046329 0.78215157]\n",
            " [0.28206245 0.59198783]\n",
            " [0.56375855 0.75297125]\n",
            " [0.57190776 0.90461196]\n",
            " [0.16512141 0.09427178]\n",
            " [0.27369316 0.61440096]\n",
            " [0.49854645 0.65424621]\n",
            " [0.4590481  0.10978696]\n",
            " [0.41957612 0.12718487]]\n"
          ]
        }
      ]
    },
    {
      "cell_type": "code",
      "metadata": {
        "id": "ixPqCr8ZsuRa"
      },
      "source": [
        "# Define the model\n",
        "def model(x):\n",
        "    return x @ np.transpose(weights) + biases"
      ],
      "execution_count": 22,
      "outputs": []
    },
    {
      "cell_type": "code",
      "metadata": {
        "id": "dP2MK5i_suRa"
      },
      "source": [
        "\n",
        "# Generate predictions\n",
        "preds = model(inputs)"
      ],
      "execution_count": 23,
      "outputs": []
    },
    {
      "cell_type": "code",
      "metadata": {
        "colab": {
          "base_uri": "https://localhost:8080/"
        },
        "id": "CTFbStFisuRa",
        "outputId": "6186a001-3dea-4b17-8255-641b8caaee67"
      },
      "source": [
        "# Compare with targets\n",
        "print(\"Predictions : \", preds, sep=\"\\n\")\n",
        "print(\"Targets : \",targets, sep=\"\\n\")"
      ],
      "execution_count": 24,
      "outputs": [
        {
          "output_type": "stream",
          "name": "stdout",
          "text": [
            "Predictions : \n",
            "[[ 63.99801345 100.85985726]\n",
            " [ 83.87790442 135.68509882]\n",
            " [ 79.05093547 155.97790819]\n",
            " [ 78.94632001  96.97173088]\n",
            " [ 73.09567329 134.18780941]\n",
            " [ 64.22977228 100.79479854]\n",
            " [ 84.35844845 135.96193759]\n",
            " [ 79.18860106 156.14998277]\n",
            " [ 78.7127412   96.73920494]\n",
            " [ 73.42906199 134.80760503]\n",
            " [ 63.53861489 100.78162457]\n",
            " [ 83.80167832 135.79418697]\n",
            " [ 79.40508506 156.21224115]\n",
            " [ 78.60803075  96.09602064]\n",
            " [ 73.27673036 134.03017794]]\n",
            "Targets : \n",
            "[[ 56.  70.]\n",
            " [ 81. 101.]\n",
            " [119. 133.]\n",
            " [ 22.  37.]\n",
            " [103. 119.]\n",
            " [ 56.  70.]\n",
            " [ 81. 101.]\n",
            " [119. 133.]\n",
            " [ 22.  37.]\n",
            " [103. 119.]\n",
            " [ 56.  70.]\n",
            " [ 81. 101.]\n",
            " [119. 133.]\n",
            " [ 22.  37.]\n",
            " [103. 119.]]\n"
          ]
        }
      ]
    },
    {
      "cell_type": "code",
      "metadata": {
        "id": "zBaK8MHOsuRb"
      },
      "source": [
        "# MSE loss\n",
        "def mse(t1, t2):\n",
        "    diff = t1 - t2\n",
        "    return np.sum(diff * diff) / len(diff)"
      ],
      "execution_count": 25,
      "outputs": []
    },
    {
      "cell_type": "code",
      "metadata": {
        "colab": {
          "base_uri": "https://localhost:8080/"
        },
        "id": "rLnPIPeWsuRb",
        "outputId": "7136220b-38d6-40f9-e35b-a0c1f0fb37fa"
      },
      "source": [
        "# Compute loss\n",
        "loss = mse(preds, targets)\n",
        "print(loss)"
      ],
      "execution_count": 26,
      "outputs": [
        {
          "output_type": "stream",
          "name": "stdout",
          "text": [
            "2448.7679612824145\n"
          ]
        }
      ]
    },
    {
      "cell_type": "code",
      "metadata": {
        "colab": {
          "base_uri": "https://localhost:8080/"
        },
        "id": "UdQ95DfGsuRb",
        "outputId": "ab40032d-49cc-4a8c-9764-803c093ec92a"
      },
      "source": [
        "# compute gradients\n",
        "biases_grad = (preds-targets)*2/x_shape[0]\n",
        "weights_grad = (np.matmul(np.transpose((preds-targets)),inputs))*2/x_shape[0]\n",
        "\n",
        "print(\"weights_grad:\",weights_grad, sep=\"\\n\")\n",
        "print(\"biases_grad:\",biases_grad, sep=\"\\n\")"
      ],
      "execution_count": 27,
      "outputs": [
        {
          "output_type": "stream",
          "name": "stdout",
          "text": [
            "weights_grad:\n",
            "[[  451.47128948 -1979.66659534  -702.16503033]\n",
            " [ 5826.48889621  4904.37228553  3269.11664937]]\n",
            "biases_grad:\n",
            "[[ 1.06640179  4.11464763]\n",
            " [ 0.38372059  4.62467984]\n",
            " [-5.32654194  3.06372109]\n",
            " [ 7.59284267  7.99623078]\n",
            " [-3.98724356  2.02504125]\n",
            " [ 1.09730297  4.10597314]\n",
            " [ 0.44779313  4.66159168]\n",
            " [-5.30818653  3.08666437]\n",
            " [ 7.56169883  7.96522733]\n",
            " [-3.94279173  2.10768067]\n",
            " [ 1.00514865  4.10421661]\n",
            " [ 0.37355711  4.63922493]\n",
            " [-5.27932199  3.09496549]\n",
            " [ 7.54773743  7.87946942]\n",
            " [-3.96310262  2.00402373]]\n"
          ]
        }
      ]
    },
    {
      "cell_type": "markdown",
      "metadata": {
        "id": "sS9_Pd-FsuRb"
      },
      "source": [
        "Adjust weights"
      ]
    },
    {
      "cell_type": "code",
      "metadata": {
        "id": "WV7uUkOesuRb"
      },
      "source": [
        "# Adjust weights\n",
        "weights -= weights_grad * 1e-5\n",
        "biases -= biases_grad * 1e-5"
      ],
      "execution_count": 28,
      "outputs": []
    },
    {
      "cell_type": "code",
      "metadata": {
        "colab": {
          "base_uri": "https://localhost:8080/"
        },
        "id": "POc_WFvSsuRc",
        "outputId": "5ab8d98d-9ecf-42db-ac71-2f86c1b4f562"
      },
      "source": [
        "print(\"Weights:\",weights,sep='\\n')\n",
        "print(\"Biases:\",biases,sep=\"\\n\")"
      ],
      "execution_count": 29,
      "outputs": [
        {
          "output_type": "stream",
          "name": "stdout",
          "text": [
            "Weights:\n",
            "[[0.60140357 0.02834477 0.43885272]\n",
            " [0.3939613  0.52242474 0.65071475]]\n",
            "Biases:\n",
            "[[0.6245093  0.17246332]\n",
            " [0.34991543 0.50526655]\n",
            " [0.14445012 0.41988261]\n",
            " [0.79726144 0.98541724]\n",
            " [0.23855893 0.28479609]\n",
            " [0.85626782 0.10740469]\n",
            " [0.83045881 0.78210496]\n",
            " [0.28211553 0.59195697]\n",
            " [0.56368293 0.7528916 ]\n",
            " [0.57194718 0.90459088]\n",
            " [0.16511135 0.09423074]\n",
            " [0.27368942 0.61435456]\n",
            " [0.49859924 0.65421526]\n",
            " [0.45897262 0.10970816]\n",
            " [0.41961575 0.12716483]]\n"
          ]
        }
      ]
    },
    {
      "cell_type": "code",
      "metadata": {
        "colab": {
          "base_uri": "https://localhost:8080/"
        },
        "id": "krNokJHfsuRc",
        "outputId": "87233a20-4cb3-4b16-a41f-837aaea9b53f"
      },
      "source": [
        "# Calculate loss\n",
        "preds = model(inputs)\n",
        "loss = mse(preds, targets)\n",
        "print(loss)"
      ],
      "execution_count": 30,
      "outputs": [
        {
          "output_type": "stream",
          "name": "stdout",
          "text": [
            "1840.5754633408726\n"
          ]
        }
      ]
    },
    {
      "cell_type": "code",
      "metadata": {
        "id": "a1n6ksnJsuRc"
      },
      "source": [
        "# repeating same for 200 times\n",
        "for i in range(200):\n",
        "    preds = model(inputs)\n",
        "    loss = mse(preds, targets)\n",
        "    \n",
        "    biases_grad = ((((inputs@np.transpose(weights))+biases)-targets))*2/x_shape[0]\n",
        "    weights_grad = (np.matmul(np.transpose((((inputs@np.transpose(weights))+biases)-targets)),inputs))*2/x_shape[0]\n",
        "\n",
        "    weights -= weights_grad * 1e-5\n",
        "    biases -= biases_grad * 1e-5"
      ],
      "execution_count": 31,
      "outputs": []
    },
    {
      "cell_type": "code",
      "metadata": {
        "colab": {
          "base_uri": "https://localhost:8080/"
        },
        "id": "xDkpAuiNsuRc",
        "outputId": "f2c03b0b-d011-45d3-d3c6-8be42ed23e79"
      },
      "source": [
        "# Calculate loss\n",
        "preds = model(inputs)\n",
        "loss = mse(preds, targets)\n",
        "print(loss)"
      ],
      "execution_count": 32,
      "outputs": [
        {
          "output_type": "stream",
          "name": "stdout",
          "text": [
            "14.5240597549105\n"
          ]
        }
      ]
    },
    {
      "cell_type": "code",
      "metadata": {
        "colab": {
          "base_uri": "https://localhost:8080/"
        },
        "id": "v9bfyLYssuRc",
        "outputId": "8190fb40-05ea-428e-cec6-46fde5b21444"
      },
      "source": [
        "# Print predictions\n",
        "print(preds)"
      ],
      "execution_count": 33,
      "outputs": [
        {
          "output_type": "stream",
          "name": "stdout",
          "text": [
            "[[ 58.27206845  70.67497577]\n",
            " [ 81.95471285  99.62830512]\n",
            " [117.2110338  134.20654388]\n",
            " [ 26.35345781  40.84517855]\n",
            " [ 98.66178094 115.24324476]\n",
            " [ 58.50376518  70.60993449]\n",
            " [ 82.43512811  99.90506972]\n",
            " [117.3486625  134.37857236]\n",
            " [ 26.11994158  40.61271491]\n",
            " [ 98.99508031 115.86287429]\n",
            " [ 57.81279299  70.59676405]\n",
            " [ 81.87850717  99.73736405]\n",
            " [117.56508849 134.44081406]\n",
            " [ 26.01525919  39.96970297]\n",
            " [ 98.84278949 115.08565553]]\n"
          ]
        }
      ]
    },
    {
      "cell_type": "code",
      "metadata": {
        "colab": {
          "base_uri": "https://localhost:8080/"
        },
        "id": "HLd2CK-OsuRc",
        "outputId": "2c239d37-bcfa-4f1b-9e55-61b1822f346b"
      },
      "source": [
        "# Print targets\n",
        "print(targets)"
      ],
      "execution_count": 34,
      "outputs": [
        {
          "output_type": "stream",
          "name": "stdout",
          "text": [
            "[[ 56.  70.]\n",
            " [ 81. 101.]\n",
            " [119. 133.]\n",
            " [ 22.  37.]\n",
            " [103. 119.]\n",
            " [ 56.  70.]\n",
            " [ 81. 101.]\n",
            " [119. 133.]\n",
            " [ 22.  37.]\n",
            " [103. 119.]\n",
            " [ 56.  70.]\n",
            " [ 81. 101.]\n",
            " [119. 133.]\n",
            " [ 22.  37.]\n",
            " [103. 119.]]\n"
          ]
        }
      ]
    },
    {
      "cell_type": "code",
      "metadata": {
        "id": "VZMXB5GcsuRd"
      },
      "source": [
        ""
      ],
      "execution_count": 34,
      "outputs": []
    }
  ]
}