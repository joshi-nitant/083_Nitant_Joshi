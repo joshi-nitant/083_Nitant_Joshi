{
  "nbformat": 4,
  "nbformat_minor": 0,
  "metadata": {
    "colab": {
      "name": "083_logistic_regression.ipynb",
      "provenance": [],
      "include_colab_link": true
    },
    "kernelspec": {
      "display_name": "Python 3 (ipykernel)",
      "language": "python",
      "name": "python3"
    },
    "language_info": {
      "codemirror_mode": {
        "name": "ipython",
        "version": 3
      },
      "file_extension": ".py",
      "mimetype": "text/x-python",
      "name": "python",
      "nbconvert_exporter": "python",
      "pygments_lexer": "ipython3",
      "version": "3.9.7"
    }
  },
  "cells": [
    {
      "cell_type": "markdown",
      "metadata": {
        "id": "view-in-github",
        "colab_type": "text"
      },
      "source": [
        "<a href=\"https://colab.research.google.com/github/joshi-nitant/083_Nitant_Joshi/blob/master/Lab6/083_logistic_regression.ipynb\" target=\"_parent\"><img src=\"https://colab.research.google.com/assets/colab-badge.svg\" alt=\"Open In Colab\"/></a>"
      ]
    },
    {
      "cell_type": "code",
      "metadata": {
        "_cell_guid": "b1076dfc-b9ad-4769-8c92-a6c4dae69d19",
        "_uuid": "8f2839f25d086af736a60e9eeb907d3b93b6e0e5",
        "colab": {
          "base_uri": "https://localhost:8080/"
        },
        "id": "hfV503AtcBDp",
        "outputId": "4bf2cfa4-e87e-4f05-89f6-162277bfabc4"
      },
      "source": [
        "#Importing libraries\n",
        "import numpy as np \n",
        "import pandas as pd \n",
        "import io\n",
        "import matplotlib.pyplot as plt\n",
        "from google.colab import drive\n",
        "drive.mount('/content/drive')"
      ],
      "execution_count": 1,
      "outputs": [
        {
          "output_type": "stream",
          "name": "stdout",
          "text": [
            "Mounted at /content/drive\n"
          ]
        }
      ]
    },
    {
      "cell_type": "code",
      "metadata": {
        "_cell_guid": "79c7e3d0-c299-4dcb-8224-4455121ee9b0",
        "_uuid": "d629ff2d2480ee46fbb7e2d37f6b5fab8052498a",
        "colab": {
          "base_uri": "https://localhost:8080/",
          "height": 203
        },
        "id": "Y4rK9ffYcBEP",
        "outputId": "a13f0c50-f991-4fbb-8988-85446656e433"
      },
      "source": [
        "data = pd.read_csv('/content/drive/MyDrive/Colab Notebooks/ML/Lab6/BuyComputer.csv')\n",
        "\n",
        "data.drop(columns=['User ID',],axis=1,inplace=True)\n",
        "data.head()"
      ],
      "execution_count": 2,
      "outputs": [
        {
          "output_type": "execute_result",
          "data": {
            "text/html": [
              "<div>\n",
              "<style scoped>\n",
              "    .dataframe tbody tr th:only-of-type {\n",
              "        vertical-align: middle;\n",
              "    }\n",
              "\n",
              "    .dataframe tbody tr th {\n",
              "        vertical-align: top;\n",
              "    }\n",
              "\n",
              "    .dataframe thead th {\n",
              "        text-align: right;\n",
              "    }\n",
              "</style>\n",
              "<table border=\"1\" class=\"dataframe\">\n",
              "  <thead>\n",
              "    <tr style=\"text-align: right;\">\n",
              "      <th></th>\n",
              "      <th>Age</th>\n",
              "      <th>EstimatedSalary</th>\n",
              "      <th>Purchased</th>\n",
              "    </tr>\n",
              "  </thead>\n",
              "  <tbody>\n",
              "    <tr>\n",
              "      <th>0</th>\n",
              "      <td>19</td>\n",
              "      <td>19000</td>\n",
              "      <td>0</td>\n",
              "    </tr>\n",
              "    <tr>\n",
              "      <th>1</th>\n",
              "      <td>35</td>\n",
              "      <td>20000</td>\n",
              "      <td>0</td>\n",
              "    </tr>\n",
              "    <tr>\n",
              "      <th>2</th>\n",
              "      <td>26</td>\n",
              "      <td>43000</td>\n",
              "      <td>0</td>\n",
              "    </tr>\n",
              "    <tr>\n",
              "      <th>3</th>\n",
              "      <td>27</td>\n",
              "      <td>57000</td>\n",
              "      <td>0</td>\n",
              "    </tr>\n",
              "    <tr>\n",
              "      <th>4</th>\n",
              "      <td>19</td>\n",
              "      <td>76000</td>\n",
              "      <td>0</td>\n",
              "    </tr>\n",
              "  </tbody>\n",
              "</table>\n",
              "</div>"
            ],
            "text/plain": [
              "   Age  EstimatedSalary  Purchased\n",
              "0   19            19000          0\n",
              "1   35            20000          0\n",
              "2   26            43000          0\n",
              "3   27            57000          0\n",
              "4   19            76000          0"
            ]
          },
          "metadata": {},
          "execution_count": 2
        }
      ]
    },
    {
      "cell_type": "code",
      "metadata": {
        "_uuid": "4cb45e28344e7e245ab398e9f4f5272ef21d2129",
        "id": "jwuPgU6_cBE8"
      },
      "source": [
        "#Declare label as last column in the source file\n",
        "label = data.iloc[:,-1].values\n"
      ],
      "execution_count": 3,
      "outputs": []
    },
    {
      "cell_type": "code",
      "metadata": {
        "_uuid": "2e7a145fa49435ad9578ec2827f76a70cc99f2e1",
        "id": "2lhBrOp8cBFX"
      },
      "source": [
        "#Declaring X as all columns excluding last\n",
        "X = data.iloc[:,:-1].values"
      ],
      "execution_count": 4,
      "outputs": []
    },
    {
      "cell_type": "code",
      "metadata": {
        "_uuid": "dffb1f3e19e19964995ac827bf55108b5815ff67",
        "id": "t8nwbTn6cBFp"
      },
      "source": [
        "# Splitting data\n",
        "from sklearn.model_selection import train_test_split\n",
        "X_train, X_test, y_train, y_test = train_test_split(X, label, test_size = 0.30, random_state = 86)"
      ],
      "execution_count": 5,
      "outputs": []
    },
    {
      "cell_type": "code",
      "metadata": {
        "_uuid": "7d4ed14782e114ae3282f20d3754121398e6d232",
        "id": "U4bUiVVFcBGD"
      },
      "source": [
        "# Sacaling data\n",
        "from sklearn.preprocessing import StandardScaler\n",
        "sc = StandardScaler()\n",
        "X_train = sc.fit_transform(X_train)\n",
        "X_test = sc.transform(X_test)"
      ],
      "execution_count": 6,
      "outputs": []
    },
    {
      "cell_type": "code",
      "metadata": {
        "_uuid": "2ff7415e3e0e0673d59051cfe6154c63d3312a32",
        "colab": {
          "base_uri": "https://localhost:8080/"
        },
        "id": "W5yGgzqbcBGc",
        "outputId": "62cecacf-4b95-4a74-84ea-34f9def32b76"
      },
      "source": [
        "#Variabes to calculate sigmoid function\n",
        "y_pred = []\n",
        "len_x = len(X_train[0])\n",
        "w = []\n",
        "b = 0.2\n",
        "print(len_x)"
      ],
      "execution_count": 7,
      "outputs": [
        {
          "output_type": "stream",
          "name": "stdout",
          "text": [
            "2\n"
          ]
        }
      ]
    },
    {
      "cell_type": "code",
      "metadata": {
        "_uuid": "a228174207f4631be4f26a0cc05e379f3f58aa56",
        "colab": {
          "base_uri": "https://localhost:8080/"
        },
        "id": "ZbqwTM0bcBGr",
        "outputId": "e1ff6580-c0a9-4886-a0ed-62a1cafd60f0"
      },
      "source": [
        "entries = len(X_train[:,0])\n",
        "entries"
      ],
      "execution_count": 8,
      "outputs": [
        {
          "output_type": "execute_result",
          "data": {
            "text/plain": [
              "280"
            ]
          },
          "metadata": {},
          "execution_count": 8
        }
      ]
    },
    {
      "cell_type": "code",
      "metadata": {
        "_uuid": "5d4d6e47ee65c9c7404e60fcf8f05c11708546b3",
        "colab": {
          "base_uri": "https://localhost:8080/"
        },
        "id": "vEV7Nn73cBG7",
        "outputId": "1cf67819-24ac-4899-c323-ae80b5e6b008"
      },
      "source": [
        "for weights in range(len_x):\n",
        "    w.append(0)\n",
        "w"
      ],
      "execution_count": 9,
      "outputs": [
        {
          "output_type": "execute_result",
          "data": {
            "text/plain": [
              "[0, 0]"
            ]
          },
          "metadata": {},
          "execution_count": 9
        }
      ]
    },
    {
      "cell_type": "code",
      "metadata": {
        "_uuid": "18dbd2196d72527a82d30ab88ed2aa8d10bd01ce",
        "id": "_fAtpylNcBHM"
      },
      "source": [
        "# Sigmoid function\n",
        "def sigmoid(z):\n",
        "  return (1 / (1 + np.exp(-z)))"
      ],
      "execution_count": 10,
      "outputs": []
    },
    {
      "cell_type": "code",
      "metadata": {
        "_uuid": "daa0f87fdbf98591cb9f51b8dc7157dc399ca827",
        "id": "kfchkScTcBHd"
      },
      "source": [
        "def predict(inputs):\n",
        "    z = np.dot(w,inputs) + b\n",
        "    temp = sigmoid(z)\n",
        "    return temp"
      ],
      "execution_count": 11,
      "outputs": []
    },
    {
      "cell_type": "code",
      "metadata": {
        "_uuid": "4126f842d072ccd40019cc283b767a014e2ee074",
        "id": "K2ryTgglcBHt"
      },
      "source": [
        "#Loss function\n",
        "def loss_func(y,a):\n",
        "    J = -(y * np.log(a) + (1-y) * np.log(1-a))\n",
        "    return J    "
      ],
      "execution_count": 12,
      "outputs": []
    },
    {
      "cell_type": "code",
      "metadata": {
        "_uuid": "fc0ceb65c69f4ee0c3f28e050744229dc90c621b",
        "id": "1KW3eDpmcBIA"
      },
      "source": [
        "dw = []\n",
        "db = 0\n",
        "J = 0\n",
        "alpha = 0.1\n",
        "for x in range(len_x):\n",
        "    dw.append(0)"
      ],
      "execution_count": 13,
      "outputs": []
    },
    {
      "cell_type": "code",
      "metadata": {
        "_uuid": "e4be38e9b500ae0c5a7134296a3055675c4fb2d8",
        "id": "ipqdFLP3cBIO"
      },
      "source": [
        "#Repeating the process 3000 times\n",
        "for iterations in range(3000):\n",
        "    for i in range(entries):\n",
        "        localx = X_train[i]\n",
        "        a = predict(localx)   \n",
        "        dz = a - y_train[i]\n",
        "        J += loss_func(y_train[i],a)\n",
        "\n",
        "        for j in range(len_x):\n",
        "            dw[j] = dw[j] + (localx[j] * dz)\n",
        "\n",
        "        db += dz\n",
        "    J = J / entries\n",
        "    db = db / entries\n",
        "\n",
        "    for x in range(len_x):\n",
        "        dw[x] = dw[x] / entries\n",
        "\n",
        "    for x in range(len_x):\n",
        "        w[x] = w[x] - (alpha * dw[x])\n",
        "    b = b - (alpha * db)         \n",
        "    J=0\n"
      ],
      "execution_count": 14,
      "outputs": []
    },
    {
      "cell_type": "code",
      "metadata": {
        "_uuid": "5479ccb6073ed1ea310ef7de01b2935fc3ec400e",
        "colab": {
          "base_uri": "https://localhost:8080/"
        },
        "id": "7Q585AdrcBIs",
        "outputId": "ced16921-1e33-43a4-c5f7-6e6cf0a2034b"
      },
      "source": [
        "#Print weight\n",
        "w"
      ],
      "execution_count": 15,
      "outputs": [
        {
          "output_type": "execute_result",
          "data": {
            "text/plain": [
              "[2.538360378577415, 1.1615398277163362]"
            ]
          },
          "metadata": {},
          "execution_count": 15
        }
      ]
    },
    {
      "cell_type": "code",
      "metadata": {
        "_uuid": "a939c247b8a092f74c9843975612daa85c423621",
        "colab": {
          "base_uri": "https://localhost:8080/"
        },
        "id": "rEiF-bNHcBJB",
        "outputId": "73af0eb9-f808-4e49-a8aa-79560db7452f"
      },
      "source": [
        "#print bias\n",
        "b"
      ],
      "execution_count": 16,
      "outputs": [
        {
          "output_type": "execute_result",
          "data": {
            "text/plain": [
              "-1.10865818286564"
            ]
          },
          "metadata": {},
          "execution_count": 16
        }
      ]
    },
    {
      "cell_type": "code",
      "metadata": {
        "_uuid": "b7ae24169a21c7ac8ea0787f4a38a0de3e07a6b5",
        "id": "MPt5nUcpcBJR"
      },
      "source": [
        "#predicting the label\n",
        "for x in range(len(y_test)):\n",
        "    y_pred.append(predict(X_test[x]))"
      ],
      "execution_count": 17,
      "outputs": []
    },
    {
      "cell_type": "code",
      "metadata": {
        "_uuid": "967ad1b72305ad792a5d50e4d8b8a07632f7b241",
        "colab": {
          "base_uri": "https://localhost:8080/"
        },
        "id": "79HPPz7jcBJg",
        "scrolled": false,
        "outputId": "11f4c541-06e2-4819-b2e9-e80cf8251dc0"
      },
      "source": [
        "#print actual and predicted values in a table\n",
        "print(\"Actual\\t\\tPredicted\")\n",
        "for x in range(len(y_pred)):\n",
        "    print(y_test[x] ,y_pred[x], sep=\"\\t\\t\")\n",
        "    if y_pred[x]>=0.5:\n",
        "        y_pred[x]=1\n",
        "    else:\n",
        "        y_pred[x]=0"
      ],
      "execution_count": 18,
      "outputs": [
        {
          "output_type": "stream",
          "name": "stdout",
          "text": [
            "Actual\t\tPredicted\n",
            "0\t\t0.011601487796935346\n",
            "0\t\t0.34595163410286534\n",
            "0\t\t0.015186592734763115\n",
            "1\t\t0.9928865692895193\n",
            "0\t\t0.016700759539565964\n",
            "1\t\t0.3791230647407476\n",
            "0\t\t0.031182116279058602\n",
            "0\t\t0.0008684228503045384\n",
            "0\t\t0.27415308976619734\n",
            "0\t\t0.2747862172287914\n",
            "1\t\t0.9839633538785998\n",
            "0\t\t0.008572476059788897\n",
            "0\t\t0.10913385850437933\n",
            "0\t\t0.1959547853753098\n",
            "0\t\t0.5302581244945206\n",
            "0\t\t0.03680339405020837\n",
            "0\t\t0.32234839684454863\n",
            "0\t\t0.10278509321290276\n",
            "0\t\t0.1388211378282071\n",
            "1\t\t0.955321296977749\n",
            "0\t\t0.0528682101933105\n",
            "0\t\t0.0546950967040219\n",
            "1\t\t0.9224458530989547\n",
            "0\t\t0.05666625797259988\n",
            "0\t\t0.4447395873510039\n",
            "0\t\t0.2006514548625493\n",
            "0\t\t0.2083009615208568\n",
            "0\t\t0.0008391547677902117\n",
            "1\t\t0.9750563400286659\n",
            "1\t\t0.6155418961418838\n",
            "0\t\t0.08265219575068042\n",
            "1\t\t0.9976816958189417\n",
            "1\t\t0.9981786935152476\n",
            "1\t\t0.9768165474898421\n",
            "0\t\t0.009060933015363808\n",
            "1\t\t0.38836499933093\n",
            "0\t\t0.2416550245610783\n",
            "1\t\t0.3006195554541418\n",
            "1\t\t0.9853953419412153\n",
            "1\t\t0.275103121289567\n",
            "0\t\t0.00183687942738577\n",
            "0\t\t0.09788279279586207\n",
            "0\t\t0.006911765838983169\n",
            "1\t\t0.1967072712483666\n",
            "0\t\t0.15584765389629357\n",
            "1\t\t0.22384706756401618\n",
            "0\t\t0.5538332293826955\n",
            "0\t\t0.13863120021617245\n",
            "0\t\t0.039616260722515416\n",
            "0\t\t0.01447631534530105\n",
            "0\t\t0.019641886069238952\n",
            "1\t\t0.7751475512921802\n",
            "0\t\t0.09662669213658512\n",
            "0\t\t0.011619730718195552\n",
            "0\t\t0.17977249774022758\n",
            "0\t\t0.08864675994225195\n",
            "0\t\t0.07495438446319916\n",
            "0\t\t0.37145142034884554\n",
            "0\t\t0.005336734591197524\n",
            "1\t\t0.6774312803363063\n",
            "0\t\t0.5642508337468244\n",
            "0\t\t0.13154315477946293\n",
            "0\t\t0.005695631520460739\n",
            "1\t\t0.9065114487799635\n",
            "1\t\t0.3806209880725811\n",
            "1\t\t0.5314458491241028\n",
            "0\t\t0.03492556738114252\n",
            "1\t\t0.8960902910494795\n",
            "1\t\t0.30498233318515516\n",
            "0\t\t0.38761004737670823\n",
            "1\t\t0.9253059462470065\n",
            "1\t\t0.9403918223090765\n",
            "0\t\t0.02267704600851458\n",
            "0\t\t0.0032660968126231355\n",
            "1\t\t0.8068762839301625\n",
            "0\t\t0.006249756928949039\n",
            "0\t\t0.7884775655665099\n",
            "0\t\t0.1795382109247835\n",
            "0\t\t0.0022487026604305427\n",
            "0\t\t0.979069361384632\n",
            "1\t\t0.6081481478322724\n",
            "0\t\t0.025726742242068647\n",
            "0\t\t0.03943521110583108\n",
            "0\t\t0.05683645168040427\n",
            "0\t\t0.25505673378792965\n",
            "0\t\t0.27415308976619734\n",
            "1\t\t0.993812778390439\n",
            "0\t\t0.7259625592208236\n",
            "1\t\t0.7153486170714619\n",
            "0\t\t0.06832408911308208\n",
            "0\t\t0.16084398686768295\n",
            "1\t\t0.527881660105134\n",
            "0\t\t0.0007316126690874056\n",
            "0\t\t0.9865209198193723\n",
            "0\t\t0.059998390257612014\n",
            "0\t\t0.008156105164739658\n",
            "1\t\t0.2634776469720865\n",
            "1\t\t0.47725184095761236\n",
            "0\t\t0.03166595286903439\n",
            "1\t\t0.82031319369454\n",
            "0\t\t0.04689742422268662\n",
            "0\t\t0.15626638727127554\n",
            "0\t\t0.3976879204644701\n",
            "0\t\t0.09690457560574338\n",
            "1\t\t0.7851217438086213\n",
            "1\t\t0.6355543796438571\n",
            "1\t\t0.9035626426817754\n",
            "0\t\t0.34001064504050427\n",
            "0\t\t0.04211851786267135\n",
            "0\t\t0.10599284420878805\n",
            "0\t\t0.0035083914835405293\n",
            "0\t\t0.13099929637150712\n",
            "0\t\t0.010331235178970452\n",
            "1\t\t0.9728074752790348\n",
            "0\t\t0.2359955402015456\n",
            "1\t\t0.9940013028766919\n",
            "0\t\t0.28071267628994245\n",
            "0\t\t0.11615014095616899\n",
            "1\t\t0.9950965179985751\n",
            "1\t\t0.9529863078184926\n"
          ]
        }
      ]
    },
    {
      "cell_type": "code",
      "metadata": {
        "_uuid": "a59807150900082ab876ef0200c6c7f8f93e098c",
        "colab": {
          "base_uri": "https://localhost:8080/"
        },
        "id": "sdZDj_iVcBJt",
        "outputId": "503e057c-a5e6-49e5-dc8f-dba6942e3145"
      },
      "source": [
        "# Calculating accuracy of prediction\n",
        "count = 0\n",
        "for x in range(len(y_pred)):\n",
        "    if(y_pred[x] == y_test[x]):\n",
        "        count += 1\n",
        "\n",
        "print('Accuracy:',(count / (len(y_pred))) * 100)"
      ],
      "execution_count": 19,
      "outputs": [
        {
          "output_type": "stream",
          "name": "stdout",
          "text": [
            "Accuracy: 85.83333333333333\n"
          ]
        }
      ]
    },
    {
      "cell_type": "markdown",
      "metadata": {
        "id": "x6nmajpzhAEn"
      },
      "source": [
        "## Using sklearn LogisticRegression model##"
      ]
    },
    {
      "cell_type": "code",
      "metadata": {
        "_kg_hide-output": true,
        "_uuid": "9aaade066015e04f20dd7eb1d37339be75ca3836",
        "colab": {
          "base_uri": "https://localhost:8080/"
        },
        "id": "iG-BK4i9cBKH",
        "outputId": "c3057616-e7c5-4c94-985e-9aca0955def3"
      },
      "source": [
        "# Fitting Logistic Regression to the Training set\n",
        "from sklearn.linear_model import LogisticRegression\n",
        "LR = LogisticRegression(random_state = 86) # roll no 86\n",
        "#Fit\n",
        "LR.fit(X_train,y_train)\n",
        "\n",
        "#predicting the test label with LR. Predict always takes X as input\n",
        "y_predict = LR.predict(X_test)\n",
        "\n",
        "from sklearn.metrics import accuracy_score\n",
        "print('Accuracy:', accuracy_score(y_predict,y_test))\n"
      ],
      "execution_count": 20,
      "outputs": [
        {
          "output_type": "stream",
          "name": "stdout",
          "text": [
            "Accuracy: 0.8583333333333333\n"
          ]
        }
      ]
    },
    {
      "cell_type": "markdown",
      "metadata": {
        "id": "Y8sYVBu-iSW-"
      },
      "source": [
        "**Exercise:**\n",
        "\n",
        "Try logistic regression on BuyComputer dataset and set Random state=Your_RollNumber (last 3 digit of ID, incase if you don't have ID)"
      ]
    },
    {
      "cell_type": "code",
      "metadata": {
        "id": "w52r4G48GVcE"
      },
      "source": [
        ""
      ],
      "execution_count": 20,
      "outputs": []
    }
  ]
}