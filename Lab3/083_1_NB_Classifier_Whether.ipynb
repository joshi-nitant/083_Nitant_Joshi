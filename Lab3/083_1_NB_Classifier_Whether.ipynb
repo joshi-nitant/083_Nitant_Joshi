{
  "nbformat": 4,
  "nbformat_minor": 5,
  "metadata": {
    "kernelspec": {
      "display_name": "Python 3 (ipykernel)",
      "language": "python",
      "name": "python3"
    },
    "language_info": {
      "codemirror_mode": {
        "name": "ipython",
        "version": 3
      },
      "file_extension": ".py",
      "mimetype": "text/x-python",
      "name": "python",
      "nbconvert_exporter": "python",
      "pygments_lexer": "ipython3",
      "version": "3.9.7"
    },
    "colab": {
      "name": "083_1_NB_Classifier_Whether.ipynb",
      "provenance": [],
      "include_colab_link": true
    }
  },
  "cells": [
    {
      "cell_type": "markdown",
      "metadata": {
        "id": "view-in-github",
        "colab_type": "text"
      },
      "source": [
        "<a href=\"https://colab.research.google.com/github/joshi-nitant/083_Nitant_Joshi/blob/master/Lab3/083_1_NB_Classifier_Whether.ipynb\" target=\"_parent\"><img src=\"https://colab.research.google.com/assets/colab-badge.svg\" alt=\"Open In Colab\"/></a>"
      ]
    },
    {
      "cell_type": "markdown",
      "metadata": {
        "id": "c0cec348"
      },
      "source": [
        "**Aim: Implement Naive Bayes classifier : Whether Example**"
      ],
      "id": "c0cec348"
    },
    {
      "cell_type": "markdown",
      "metadata": {
        "id": "497a3353"
      },
      "source": [
        "Step 1: Import necessary libraries."
      ],
      "id": "497a3353"
    },
    {
      "cell_type": "code",
      "metadata": {
        "id": "38ffd330"
      },
      "source": [
        "from sklearn import preprocessing\n",
        "from sklearn.naive_bayes import GaussianNB, MultinomialNB\n",
        "import pandas as pd"
      ],
      "id": "38ffd330",
      "execution_count": 1,
      "outputs": []
    },
    {
      "cell_type": "markdown",
      "metadata": {
        "id": "44d1fa97"
      },
      "source": [
        "Step 2: Prepare dataset."
      ],
      "id": "44d1fa97"
    },
    {
      "cell_type": "code",
      "metadata": {
        "id": "26c12608"
      },
      "source": [
        "\n",
        "weather = ['Sunny', 'Sunny', 'Overcast', 'Rainy', 'Rainy','Rainy', 'Overcast',\n",
        "           'Sunny', 'Sunny', 'Rainy', 'Sunny', 'Overcast', 'Overcast', 'Rainy']\n",
        "\n",
        "temp = ['Hot','Hot','Hot','Mild','Cool','Cool','Cool','Mild',\n",
        "        'Cool','Mild','Mild','Mild','Hot','Mild']\n",
        "\n",
        "play=['No','No','Yes','Yes','Yes','No','Yes','No','Yes',\n",
        "      'Yes','Yes','Yes','Yes','No']"
      ],
      "id": "26c12608",
      "execution_count": 2,
      "outputs": []
    },
    {
      "cell_type": "code",
      "metadata": {
        "scrolled": true,
        "colab": {
          "base_uri": "https://localhost:8080/",
          "height": 480
        },
        "id": "b6469431",
        "outputId": "00f31e8f-875a-4e87-cfa8-43cd4fbce386"
      },
      "source": [
        "df = pd.DataFrame(list(zip(weather,temp,play)), columns=['Weather', 'Temperature', 'Play'])\n",
        "df"
      ],
      "id": "b6469431",
      "execution_count": 3,
      "outputs": [
        {
          "output_type": "execute_result",
          "data": {
            "text/html": [
              "<div>\n",
              "<style scoped>\n",
              "    .dataframe tbody tr th:only-of-type {\n",
              "        vertical-align: middle;\n",
              "    }\n",
              "\n",
              "    .dataframe tbody tr th {\n",
              "        vertical-align: top;\n",
              "    }\n",
              "\n",
              "    .dataframe thead th {\n",
              "        text-align: right;\n",
              "    }\n",
              "</style>\n",
              "<table border=\"1\" class=\"dataframe\">\n",
              "  <thead>\n",
              "    <tr style=\"text-align: right;\">\n",
              "      <th></th>\n",
              "      <th>Weather</th>\n",
              "      <th>Temperature</th>\n",
              "      <th>Play</th>\n",
              "    </tr>\n",
              "  </thead>\n",
              "  <tbody>\n",
              "    <tr>\n",
              "      <th>0</th>\n",
              "      <td>Sunny</td>\n",
              "      <td>Hot</td>\n",
              "      <td>No</td>\n",
              "    </tr>\n",
              "    <tr>\n",
              "      <th>1</th>\n",
              "      <td>Sunny</td>\n",
              "      <td>Hot</td>\n",
              "      <td>No</td>\n",
              "    </tr>\n",
              "    <tr>\n",
              "      <th>2</th>\n",
              "      <td>Overcast</td>\n",
              "      <td>Hot</td>\n",
              "      <td>Yes</td>\n",
              "    </tr>\n",
              "    <tr>\n",
              "      <th>3</th>\n",
              "      <td>Rainy</td>\n",
              "      <td>Mild</td>\n",
              "      <td>Yes</td>\n",
              "    </tr>\n",
              "    <tr>\n",
              "      <th>4</th>\n",
              "      <td>Rainy</td>\n",
              "      <td>Cool</td>\n",
              "      <td>Yes</td>\n",
              "    </tr>\n",
              "    <tr>\n",
              "      <th>5</th>\n",
              "      <td>Rainy</td>\n",
              "      <td>Cool</td>\n",
              "      <td>No</td>\n",
              "    </tr>\n",
              "    <tr>\n",
              "      <th>6</th>\n",
              "      <td>Overcast</td>\n",
              "      <td>Cool</td>\n",
              "      <td>Yes</td>\n",
              "    </tr>\n",
              "    <tr>\n",
              "      <th>7</th>\n",
              "      <td>Sunny</td>\n",
              "      <td>Mild</td>\n",
              "      <td>No</td>\n",
              "    </tr>\n",
              "    <tr>\n",
              "      <th>8</th>\n",
              "      <td>Sunny</td>\n",
              "      <td>Cool</td>\n",
              "      <td>Yes</td>\n",
              "    </tr>\n",
              "    <tr>\n",
              "      <th>9</th>\n",
              "      <td>Rainy</td>\n",
              "      <td>Mild</td>\n",
              "      <td>Yes</td>\n",
              "    </tr>\n",
              "    <tr>\n",
              "      <th>10</th>\n",
              "      <td>Sunny</td>\n",
              "      <td>Mild</td>\n",
              "      <td>Yes</td>\n",
              "    </tr>\n",
              "    <tr>\n",
              "      <th>11</th>\n",
              "      <td>Overcast</td>\n",
              "      <td>Mild</td>\n",
              "      <td>Yes</td>\n",
              "    </tr>\n",
              "    <tr>\n",
              "      <th>12</th>\n",
              "      <td>Overcast</td>\n",
              "      <td>Hot</td>\n",
              "      <td>Yes</td>\n",
              "    </tr>\n",
              "    <tr>\n",
              "      <th>13</th>\n",
              "      <td>Rainy</td>\n",
              "      <td>Mild</td>\n",
              "      <td>No</td>\n",
              "    </tr>\n",
              "  </tbody>\n",
              "</table>\n",
              "</div>"
            ],
            "text/plain": [
              "     Weather Temperature Play\n",
              "0      Sunny         Hot   No\n",
              "1      Sunny         Hot   No\n",
              "2   Overcast         Hot  Yes\n",
              "3      Rainy        Mild  Yes\n",
              "4      Rainy        Cool  Yes\n",
              "5      Rainy        Cool   No\n",
              "6   Overcast        Cool  Yes\n",
              "7      Sunny        Mild   No\n",
              "8      Sunny        Cool  Yes\n",
              "9      Rainy        Mild  Yes\n",
              "10     Sunny        Mild  Yes\n",
              "11  Overcast        Mild  Yes\n",
              "12  Overcast         Hot  Yes\n",
              "13     Rainy        Mild   No"
            ]
          },
          "metadata": {},
          "execution_count": 3
        }
      ]
    },
    {
      "cell_type": "markdown",
      "metadata": {
        "id": "1d535103"
      },
      "source": [
        "Step 3: Digitize the data set using encoding"
      ],
      "id": "1d535103"
    },
    {
      "cell_type": "code",
      "metadata": {
        "colab": {
          "base_uri": "https://localhost:8080/"
        },
        "id": "99aaf809",
        "outputId": "6e9be25e-1eba-48dd-b8a6-fda67a61a54f"
      },
      "source": [
        "#creating labelEncoder\n",
        "le = preprocessing.LabelEncoder() # apply different label\n",
        "\n",
        "# Converting string labels into numbers.\n",
        "weather_encoded=le.fit_transform(weather)\n",
        "print(\"Weather:\" ,weather_encoded)"
      ],
      "id": "99aaf809",
      "execution_count": 4,
      "outputs": [
        {
          "output_type": "stream",
          "name": "stdout",
          "text": [
            "Weather: [2 2 0 1 1 1 0 2 2 1 2 0 0 1]\n"
          ]
        }
      ]
    },
    {
      "cell_type": "code",
      "metadata": {
        "colab": {
          "base_uri": "https://localhost:8080/"
        },
        "id": "11dfd069",
        "outputId": "c1c7f8ef-eadc-412a-f7c5-bcd4202f37ad"
      },
      "source": [
        "\n",
        "temp_encoded=le.fit_transform(temp)\n",
        "label=le.fit_transform(play)\n",
        "\n",
        "print(\"Temp:\",temp_encoded)\n",
        "print(\"Play:\",label)"
      ],
      "id": "11dfd069",
      "execution_count": 5,
      "outputs": [
        {
          "output_type": "stream",
          "name": "stdout",
          "text": [
            "Temp: [1 1 1 2 0 0 0 2 0 2 2 2 1 2]\n",
            "Play: [0 0 1 1 1 0 1 0 1 1 1 1 1 0]\n"
          ]
        }
      ]
    },
    {
      "cell_type": "markdown",
      "metadata": {
        "id": "b4007ec9"
      },
      "source": [
        "Step 4: Merge different features to prepare dataset"
      ],
      "id": "b4007ec9"
    },
    {
      "cell_type": "code",
      "metadata": {
        "colab": {
          "base_uri": "https://localhost:8080/"
        },
        "id": "a2a64903",
        "outputId": "b5b012e5-bf90-46d9-ab5d-754741964ca3"
      },
      "source": [
        "#Combinig weather and temp into single listof tuples\n",
        "features=tuple(zip(weather_encoded,temp_encoded))\n",
        "print(\"Features:\",features)"
      ],
      "id": "a2a64903",
      "execution_count": 6,
      "outputs": [
        {
          "output_type": "stream",
          "name": "stdout",
          "text": [
            "Features: ((2, 1), (2, 1), (0, 1), (1, 2), (1, 0), (1, 0), (0, 0), (2, 2), (2, 0), (1, 2), (2, 2), (0, 2), (0, 1), (1, 2))\n"
          ]
        }
      ]
    },
    {
      "cell_type": "markdown",
      "metadata": {
        "id": "7bed9adb"
      },
      "source": [
        "Step 5: Train ’Naive Bayes Classifier’"
      ],
      "id": "7bed9adb"
    },
    {
      "cell_type": "code",
      "metadata": {
        "colab": {
          "base_uri": "https://localhost:8080/"
        },
        "id": "4ca1979f",
        "outputId": "87a5dc1f-f962-4d21-bc9c-fe06d863abcb"
      },
      "source": [
        "#Create a Classifier\n",
        "model=MultinomialNB()\n",
        "# Train the model using the training sets\n",
        "model.fit(features,label)"
      ],
      "id": "4ca1979f",
      "execution_count": 7,
      "outputs": [
        {
          "output_type": "execute_result",
          "data": {
            "text/plain": [
              "MultinomialNB(alpha=1.0, class_prior=None, fit_prior=True)"
            ]
          },
          "metadata": {},
          "execution_count": 7
        }
      ]
    },
    {
      "cell_type": "markdown",
      "metadata": {
        "id": "b574bcda"
      },
      "source": [
        "Step 6: Predict Output for new data"
      ],
      "id": "b574bcda"
    },
    {
      "cell_type": "code",
      "metadata": {
        "colab": {
          "base_uri": "https://localhost:8080/"
        },
        "id": "12cc30bf",
        "outputId": "cc2ea4a0-25e4-43b8-a09a-f1e81727fd12"
      },
      "source": [
        "#Predict Output\n",
        "predicted= model.predict([[0,2]]) # 0:Overcast, 2:Mild\n",
        "print(\"Predicted Value:\", predicted)"
      ],
      "id": "12cc30bf",
      "execution_count": 8,
      "outputs": [
        {
          "output_type": "stream",
          "name": "stdout",
          "text": [
            "Predicted Value: [1]\n"
          ]
        }
      ]
    },
    {
      "cell_type": "markdown",
      "metadata": {
        "id": "291ced6b"
      },
      "source": [
        "Exercise:"
      ],
      "id": "291ced6b"
    },
    {
      "cell_type": "markdown",
      "metadata": {
        "id": "3417b7d5"
      },
      "source": [
        "Manually calculate output for the following cases and compare it with system’s output.\n",
        "\n",
        "Will you play if the temperature is 'Hot' and weather is 'overcast'?\n",
        "\n",
        "Will you play if the temperature is 'Mild' and weather is 'Sunny'?"
      ],
      "id": "3417b7d5"
    },
    {
      "cell_type": "code",
      "metadata": {
        "colab": {
          "base_uri": "https://localhost:8080/",
          "height": 497
        },
        "id": "140025cb",
        "outputId": "89c2a9b4-a01c-40bf-d480-e56eb99e6b94"
      },
      "source": [
        "print(df.shape)\n",
        "df.head(14)"
      ],
      "id": "140025cb",
      "execution_count": 9,
      "outputs": [
        {
          "output_type": "stream",
          "name": "stdout",
          "text": [
            "(14, 3)\n"
          ]
        },
        {
          "output_type": "execute_result",
          "data": {
            "text/html": [
              "<div>\n",
              "<style scoped>\n",
              "    .dataframe tbody tr th:only-of-type {\n",
              "        vertical-align: middle;\n",
              "    }\n",
              "\n",
              "    .dataframe tbody tr th {\n",
              "        vertical-align: top;\n",
              "    }\n",
              "\n",
              "    .dataframe thead th {\n",
              "        text-align: right;\n",
              "    }\n",
              "</style>\n",
              "<table border=\"1\" class=\"dataframe\">\n",
              "  <thead>\n",
              "    <tr style=\"text-align: right;\">\n",
              "      <th></th>\n",
              "      <th>Weather</th>\n",
              "      <th>Temperature</th>\n",
              "      <th>Play</th>\n",
              "    </tr>\n",
              "  </thead>\n",
              "  <tbody>\n",
              "    <tr>\n",
              "      <th>0</th>\n",
              "      <td>Sunny</td>\n",
              "      <td>Hot</td>\n",
              "      <td>No</td>\n",
              "    </tr>\n",
              "    <tr>\n",
              "      <th>1</th>\n",
              "      <td>Sunny</td>\n",
              "      <td>Hot</td>\n",
              "      <td>No</td>\n",
              "    </tr>\n",
              "    <tr>\n",
              "      <th>2</th>\n",
              "      <td>Overcast</td>\n",
              "      <td>Hot</td>\n",
              "      <td>Yes</td>\n",
              "    </tr>\n",
              "    <tr>\n",
              "      <th>3</th>\n",
              "      <td>Rainy</td>\n",
              "      <td>Mild</td>\n",
              "      <td>Yes</td>\n",
              "    </tr>\n",
              "    <tr>\n",
              "      <th>4</th>\n",
              "      <td>Rainy</td>\n",
              "      <td>Cool</td>\n",
              "      <td>Yes</td>\n",
              "    </tr>\n",
              "    <tr>\n",
              "      <th>5</th>\n",
              "      <td>Rainy</td>\n",
              "      <td>Cool</td>\n",
              "      <td>No</td>\n",
              "    </tr>\n",
              "    <tr>\n",
              "      <th>6</th>\n",
              "      <td>Overcast</td>\n",
              "      <td>Cool</td>\n",
              "      <td>Yes</td>\n",
              "    </tr>\n",
              "    <tr>\n",
              "      <th>7</th>\n",
              "      <td>Sunny</td>\n",
              "      <td>Mild</td>\n",
              "      <td>No</td>\n",
              "    </tr>\n",
              "    <tr>\n",
              "      <th>8</th>\n",
              "      <td>Sunny</td>\n",
              "      <td>Cool</td>\n",
              "      <td>Yes</td>\n",
              "    </tr>\n",
              "    <tr>\n",
              "      <th>9</th>\n",
              "      <td>Rainy</td>\n",
              "      <td>Mild</td>\n",
              "      <td>Yes</td>\n",
              "    </tr>\n",
              "    <tr>\n",
              "      <th>10</th>\n",
              "      <td>Sunny</td>\n",
              "      <td>Mild</td>\n",
              "      <td>Yes</td>\n",
              "    </tr>\n",
              "    <tr>\n",
              "      <th>11</th>\n",
              "      <td>Overcast</td>\n",
              "      <td>Mild</td>\n",
              "      <td>Yes</td>\n",
              "    </tr>\n",
              "    <tr>\n",
              "      <th>12</th>\n",
              "      <td>Overcast</td>\n",
              "      <td>Hot</td>\n",
              "      <td>Yes</td>\n",
              "    </tr>\n",
              "    <tr>\n",
              "      <th>13</th>\n",
              "      <td>Rainy</td>\n",
              "      <td>Mild</td>\n",
              "      <td>No</td>\n",
              "    </tr>\n",
              "  </tbody>\n",
              "</table>\n",
              "</div>"
            ],
            "text/plain": [
              "     Weather Temperature Play\n",
              "0      Sunny         Hot   No\n",
              "1      Sunny         Hot   No\n",
              "2   Overcast         Hot  Yes\n",
              "3      Rainy        Mild  Yes\n",
              "4      Rainy        Cool  Yes\n",
              "5      Rainy        Cool   No\n",
              "6   Overcast        Cool  Yes\n",
              "7      Sunny        Mild   No\n",
              "8      Sunny        Cool  Yes\n",
              "9      Rainy        Mild  Yes\n",
              "10     Sunny        Mild  Yes\n",
              "11  Overcast        Mild  Yes\n",
              "12  Overcast         Hot  Yes\n",
              "13     Rainy        Mild   No"
            ]
          },
          "metadata": {},
          "execution_count": 9
        }
      ]
    },
    {
      "cell_type": "markdown",
      "metadata": {
        "id": "85dc2cd3"
      },
      "source": [
        "A - Weather\n",
        "B - Temp\n",
        "C - Play\n",
        "\n",
        "P(C=Yes) = 9/14\n",
        "\n",
        "P(C=No) = 5/14\n",
        "\n",
        "P(A=Overcast) = 4/14\n",
        "\n",
        "P(A=Rainy) = 5/14\n",
        "P(A=Sunny) = 5/14\n",
        "\n",
        "P(B=Hot) = 4/14\n",
        "\n",
        "P(B=Mild) = 6/14\n",
        "P(B=Cool) = 4/14\n",
        "\n",
        "P(A=Overcast/C=Yes) = 4/9\n",
        "\n",
        "P(A=Rainy/C=Yes) = 3/9\n",
        "P(A=Sunny/C=Yes) = 2/9\n",
        "\n",
        "P(A=Overcast/C=No) = 0\n",
        "\n",
        "P(A=Rainy/C=No) = 2/5\n",
        "P(A=Sunny/C=No) = 3/5\n",
        "\n",
        "P(B=Hot/C=Yes) = 2/9\n",
        "\n",
        "P(B=Mild/C=Yes) = 4/9\n",
        "P(B=Cool/C=Yes) = 3/9\n",
        "\n",
        "P(B=Hot/C=No) = 2/5\n",
        "\n",
        "P(B=Mild/C=No) = 2/5\n",
        "P(B=Cool/C=No) = 1/5"
      ],
      "id": "85dc2cd3"
    },
    {
      "cell_type": "markdown",
      "metadata": {
        "id": "b8e38868"
      },
      "source": [
        "Exercise-1\n",
        "P(C=Yes/A=Overcast,B=Hot) = ( P(A=Overcast/C=Yes) P(B=Hot/C=Yes) P(C=Yes) ) / (P(A=Overcast,B=Hot))\n",
        "\n",
        "(0.45 0.23 0.64) / (P(A=Overcast,B=Hot))\n",
        "(0.066) / (P(A=Overcast,B=Hot))\n",
        "Doing marginalization for denominator (model parameters)\n",
        "\n",
        "P(A=Overcast,B=Hot) = P(A=Overcast,B=Hot,C=Yes) + P(A=Overcast,B=Hot,C=No)\n",
        "\n",
        "(0.45 0.23 0.64) + (0 0.4 0.36)\n",
        "0.066\n",
        "Final Answer\n",
        "\n",
        "(0.066) / (P(A=Overcast,B=Hot))\n",
        "(0.066) / (0.066)\n",
        "1"
      ],
      "id": "b8e38868"
    },
    {
      "cell_type": "code",
      "metadata": {
        "colab": {
          "base_uri": "https://localhost:8080/"
        },
        "id": "87156e6d",
        "outputId": "2085fec7-5352-4d97-dafc-0c7fd5329d4e"
      },
      "source": [
        "print(\"Expected O/P Probability = 1, Yes\")\n",
        "predicted = model.predict([[0,1]])\n",
        "print(\"Predicted Value:\", predicted)"
      ],
      "id": "87156e6d",
      "execution_count": 10,
      "outputs": [
        {
          "output_type": "stream",
          "name": "stdout",
          "text": [
            "Expected O/P Probability = 1, Yes\n",
            "Predicted Value: [1]\n"
          ]
        }
      ]
    },
    {
      "cell_type": "markdown",
      "metadata": {
        "id": "18f9042f"
      },
      "source": [
        "Exercise-2\n",
        "P(C=Yes/A=Sunny,B=Mild) = ( P(A=Sunny/C=Yes) P(B=Mild/C=Yes) P(C=Yes) ) / (P(A=Sunny,B=Mild))\n",
        "\n",
        "(0.23 0.45 0.64) / (P(A=Sunny,B=Mild))\n",
        "(0.066) / (P(A=Sunny,B=Mild))\n",
        "Doing marginalization for denominator (model parameters)\n",
        "\n",
        "P(A=Sunny,B=Mild) = P(A=Sunny,B=Mild,C=Yes) + P(A=Sunny,B=Mild,C=No)\n",
        "\n",
        "(0.23 0.45 0.64) + (0.6 0.4 0.36)\n",
        "(0.066) + (0.086)\n",
        "0.152\n",
        "Final Answer\n",
        "\n",
        "(0.066) / (P(A=Sunny,B=Mild))\n",
        "(0.066) / (0.152)\n",
        "0.43"
      ],
      "id": "18f9042f"
    },
    {
      "cell_type": "code",
      "metadata": {
        "colab": {
          "base_uri": "https://localhost:8080/"
        },
        "id": "71839da9",
        "outputId": "679c0d9e-1865-4af6-90d5-f10fa9e9c8b6"
      },
      "source": [
        "print(\"Expected O/P Probability = 0.43, No\")\n",
        "predicted= model.predict([[2,2]]) # 2:Sunny, 2:Mild\n",
        "print(\"Predicted Value:\", predicted)"
      ],
      "id": "71839da9",
      "execution_count": 11,
      "outputs": [
        {
          "output_type": "stream",
          "name": "stdout",
          "text": [
            "Expected O/P Probability = 0.43, No\n",
            "Predicted Value: [1]\n"
          ]
        }
      ]
    },
    {
      "cell_type": "code",
      "metadata": {
        "id": "cd621107"
      },
      "source": [
        ""
      ],
      "id": "cd621107",
      "execution_count": null,
      "outputs": []
    }
  ]
}