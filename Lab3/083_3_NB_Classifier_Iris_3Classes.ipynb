{
  "nbformat": 4,
  "nbformat_minor": 5,
  "metadata": {
    "kernelspec": {
      "display_name": "Python 3 (ipykernel)",
      "language": "python",
      "name": "python3"
    },
    "language_info": {
      "codemirror_mode": {
        "name": "ipython",
        "version": 3
      },
      "file_extension": ".py",
      "mimetype": "text/x-python",
      "name": "python",
      "nbconvert_exporter": "python",
      "pygments_lexer": "ipython3",
      "version": "3.9.7"
    },
    "colab": {
      "name": "083_3_NB_Classifier_Iris_3Classes.ipynb",
      "provenance": [],
      "include_colab_link": true
    }
  },
  "cells": [
    {
      "cell_type": "markdown",
      "metadata": {
        "id": "view-in-github",
        "colab_type": "text"
      },
      "source": [
        "<a href=\"https://colab.research.google.com/github/joshi-nitant/083_Nitant_Joshi/blob/master/Lab3/083_3_NB_Classifier_Iris_3Classes.ipynb\" target=\"_parent\"><img src=\"https://colab.research.google.com/assets/colab-badge.svg\" alt=\"Open In Colab\"/></a>"
      ]
    },
    {
      "cell_type": "markdown",
      "metadata": {
        "id": "78ac0d1d"
      },
      "source": [
        "Exercise:"
      ],
      "id": "78ac0d1d"
    },
    {
      "cell_type": "markdown",
      "metadata": {
        "id": "f44dd731"
      },
      "source": [
        "**5) 76<=Rollnumber<=100:**"
      ],
      "id": "f44dd731"
    },
    {
      "cell_type": "markdown",
      "metadata": {
        "id": "774c299c"
      },
      "source": [
        "#Task 1: Try the algo on Dataset2 - OneHotEncoding of features:and Train test Division 75%-25%"
      ],
      "id": "774c299c"
    },
    {
      "cell_type": "code",
      "metadata": {
        "colab": {
          "base_uri": "https://localhost:8080/"
        },
        "id": "d78c95db",
        "outputId": "41f5290e-9a30-4b9c-d9e5-5c0f1b0f158d"
      },
      "source": [
        "import pandas as pd\n",
        "import numpy as np\n",
        "import matplotlib.pyplot as plt\n",
        "from sklearn.preprocessing import OneHotEncoder\n",
        "from sklearn.naive_bayes import GaussianNB\n",
        "from sklearn.model_selection import train_test_split\n",
        "from sklearn.metrics import accuracy_score, confusion_matrix, precision_score, recall_score\n",
        "from google.colab import drive\n",
        "drive.mount('/content/drive')"
      ],
      "id": "d78c95db",
      "execution_count": 4,
      "outputs": [
        {
          "output_type": "stream",
          "name": "stdout",
          "text": [
            "Drive already mounted at /content/drive; to attempt to forcibly remount, call drive.mount(\"/content/drive\", force_remount=True).\n"
          ]
        }
      ]
    },
    {
      "cell_type": "code",
      "metadata": {
        "colab": {
          "base_uri": "https://localhost:8080/",
          "height": 497
        },
        "id": "78eeae35",
        "outputId": "2af84104-16d5-49d6-defc-f5c606fc1d6f"
      },
      "source": [
        "dataset = pd.read_csv(\"/content/drive/My Drive/Colab Notebooks/ML/Lab3/Dataset2.csv\")\n",
        "print(\"Number of examples and feature:\", dataset.shape)\n",
        "dataset"
      ],
      "id": "78eeae35",
      "execution_count": 5,
      "outputs": [
        {
          "output_type": "stream",
          "name": "stdout",
          "text": [
            "Number of examples and feature: (14, 5)\n"
          ]
        },
        {
          "output_type": "execute_result",
          "data": {
            "text/html": [
              "<div>\n",
              "<style scoped>\n",
              "    .dataframe tbody tr th:only-of-type {\n",
              "        vertical-align: middle;\n",
              "    }\n",
              "\n",
              "    .dataframe tbody tr th {\n",
              "        vertical-align: top;\n",
              "    }\n",
              "\n",
              "    .dataframe thead th {\n",
              "        text-align: right;\n",
              "    }\n",
              "</style>\n",
              "<table border=\"1\" class=\"dataframe\">\n",
              "  <thead>\n",
              "    <tr style=\"text-align: right;\">\n",
              "      <th></th>\n",
              "      <th>Outlook</th>\n",
              "      <th>Temp</th>\n",
              "      <th>Wind</th>\n",
              "      <th>Humidity</th>\n",
              "      <th>Class</th>\n",
              "    </tr>\n",
              "  </thead>\n",
              "  <tbody>\n",
              "    <tr>\n",
              "      <th>0</th>\n",
              "      <td>R</td>\n",
              "      <td>H</td>\n",
              "      <td>F</td>\n",
              "      <td>Normal</td>\n",
              "      <td>N</td>\n",
              "    </tr>\n",
              "    <tr>\n",
              "      <th>1</th>\n",
              "      <td>R</td>\n",
              "      <td>H</td>\n",
              "      <td>T</td>\n",
              "      <td>High</td>\n",
              "      <td>N</td>\n",
              "    </tr>\n",
              "    <tr>\n",
              "      <th>2</th>\n",
              "      <td>O</td>\n",
              "      <td>H</td>\n",
              "      <td>F</td>\n",
              "      <td>Normal</td>\n",
              "      <td>Y</td>\n",
              "    </tr>\n",
              "    <tr>\n",
              "      <th>3</th>\n",
              "      <td>S</td>\n",
              "      <td>M</td>\n",
              "      <td>F</td>\n",
              "      <td>Normal</td>\n",
              "      <td>N</td>\n",
              "    </tr>\n",
              "    <tr>\n",
              "      <th>4</th>\n",
              "      <td>S</td>\n",
              "      <td>M</td>\n",
              "      <td>F</td>\n",
              "      <td>Normal</td>\n",
              "      <td>Y</td>\n",
              "    </tr>\n",
              "    <tr>\n",
              "      <th>5</th>\n",
              "      <td>S</td>\n",
              "      <td>M</td>\n",
              "      <td>T</td>\n",
              "      <td>Low</td>\n",
              "      <td>Y</td>\n",
              "    </tr>\n",
              "    <tr>\n",
              "      <th>6</th>\n",
              "      <td>O</td>\n",
              "      <td>C</td>\n",
              "      <td>T</td>\n",
              "      <td>Normal</td>\n",
              "      <td>Y</td>\n",
              "    </tr>\n",
              "    <tr>\n",
              "      <th>7</th>\n",
              "      <td>R</td>\n",
              "      <td>C</td>\n",
              "      <td>F</td>\n",
              "      <td>Normal</td>\n",
              "      <td>Y</td>\n",
              "    </tr>\n",
              "    <tr>\n",
              "      <th>8</th>\n",
              "      <td>R</td>\n",
              "      <td>C</td>\n",
              "      <td>F</td>\n",
              "      <td>Low</td>\n",
              "      <td>Y</td>\n",
              "    </tr>\n",
              "    <tr>\n",
              "      <th>9</th>\n",
              "      <td>S</td>\n",
              "      <td>M</td>\n",
              "      <td>F</td>\n",
              "      <td>High</td>\n",
              "      <td>Y</td>\n",
              "    </tr>\n",
              "    <tr>\n",
              "      <th>10</th>\n",
              "      <td>R</td>\n",
              "      <td>M</td>\n",
              "      <td>T</td>\n",
              "      <td>High</td>\n",
              "      <td>Y</td>\n",
              "    </tr>\n",
              "    <tr>\n",
              "      <th>11</th>\n",
              "      <td>O</td>\n",
              "      <td>M</td>\n",
              "      <td>T</td>\n",
              "      <td>Low</td>\n",
              "      <td>Y</td>\n",
              "    </tr>\n",
              "    <tr>\n",
              "      <th>12</th>\n",
              "      <td>O</td>\n",
              "      <td>H</td>\n",
              "      <td>F</td>\n",
              "      <td>Normal</td>\n",
              "      <td>Y</td>\n",
              "    </tr>\n",
              "    <tr>\n",
              "      <th>13</th>\n",
              "      <td>S</td>\n",
              "      <td>M</td>\n",
              "      <td>T</td>\n",
              "      <td>Normal</td>\n",
              "      <td>N</td>\n",
              "    </tr>\n",
              "  </tbody>\n",
              "</table>\n",
              "</div>"
            ],
            "text/plain": [
              "   Outlook Temp Wind Humidity Class\n",
              "0        R    H    F   Normal     N\n",
              "1        R    H    T     High     N\n",
              "2        O    H    F   Normal     Y\n",
              "3        S    M    F   Normal     N\n",
              "4        S    M    F   Normal     Y\n",
              "5        S    M    T      Low     Y\n",
              "6        O    C    T   Normal     Y\n",
              "7        R    C    F   Normal     Y\n",
              "8        R    C    F      Low     Y\n",
              "9        S    M    F     High     Y\n",
              "10       R    M    T     High     Y\n",
              "11       O    M    T      Low     Y\n",
              "12       O    H    F   Normal     Y\n",
              "13       S    M    T   Normal     N"
            ]
          },
          "metadata": {},
          "execution_count": 5
        }
      ]
    },
    {
      "cell_type": "code",
      "metadata": {
        "colab": {
          "base_uri": "https://localhost:8080/"
        },
        "id": "dce8c47b",
        "outputId": "19571f51-5963-40d1-99ef-a34298133db3"
      },
      "source": [
        "start = \"\\033[1m\"\n",
        "end = \"\\033[0;0m\"\n",
        "\n",
        "print(start + \"Unique Outlook values: \" + end, dataset['Outlook'].unique())\n",
        "\n",
        "print(start + \"\\nUnique Temperature values: \" + end, dataset['Temp'].unique())\n",
        "\n",
        "print(start + \"\\nUnique Humidity values: \" + end, dataset['Humidity'].unique())\n",
        "\n",
        "print(start + \"\\nUnique Wind values: \" + end, dataset['Wind'].unique())\n",
        "\n",
        "print(start + \"\\nUnique Class values \" + \"\\033[91m (Class Label): \" + end, dataset['Class'].unique())"
      ],
      "id": "dce8c47b",
      "execution_count": 6,
      "outputs": [
        {
          "output_type": "stream",
          "name": "stdout",
          "text": [
            "\u001b[1mUnique Outlook values: \u001b[0;0m ['R' 'O' 'S']\n",
            "\u001b[1m\n",
            "Unique Temperature values: \u001b[0;0m ['H' 'M' 'C']\n",
            "\u001b[1m\n",
            "Unique Humidity values: \u001b[0;0m ['Normal' 'High' 'Low']\n",
            "\u001b[1m\n",
            "Unique Wind values: \u001b[0;0m ['F' 'T']\n",
            "\u001b[1m\n",
            "Unique Class values \u001b[91m (Class Label): \u001b[0;0m ['N' 'Y']\n"
          ]
        }
      ]
    },
    {
      "cell_type": "code",
      "metadata": {
        "colab": {
          "base_uri": "https://localhost:8080/",
          "height": 382
        },
        "id": "fa1b3bf4",
        "outputId": "5a0d788d-6ac0-4c1a-d390-4f445e7f29e1"
      },
      "source": [
        "pie_chart = dataset['Class'].value_counts().plot.pie(autopct = \"%1.1f%%\", radius = 2, startangle = 90)\n",
        "pie_chart.set_ylabel('')\n",
        "plt.show()"
      ],
      "id": "fa1b3bf4",
      "execution_count": 7,
      "outputs": [
        {
          "output_type": "display_data",
          "data": {
            "image/png": "[encoded data removed]",
            "text/plain": [
              "<Figure size 432x288 with 1 Axes>"
            ]
          },
          "metadata": {}
        }
      ]
    },
    {
      "cell_type": "code",
      "metadata": {
        "id": "57bc314a"
      },
      "source": [
        "\n",
        "dummy = pd.get_dummies(dataset.iloc[:,:-1])\n",
        "\n",
        "cols = dataset.columns.tolist()\n",
        "cols.remove(\"Class\")\n",
        "\n",
        "dataset = dataset.drop(cols, axis = 1)\n",
        "dataset = pd.concat([dummy,dataset], axis = 1)"
      ],
      "id": "57bc314a",
      "execution_count": 8,
      "outputs": []
    },
    {
      "cell_type": "code",
      "metadata": {
        "colab": {
          "base_uri": "https://localhost:8080/",
          "height": 270
        },
        "id": "795e367b",
        "outputId": "06589bf0-f615-4a13-ed5e-b20cc96579e6"
      },
      "source": [
        "print(\"\\n\\nFinal dataset :\\n\")\n",
        "dataset.head()"
      ],
      "id": "795e367b",
      "execution_count": 9,
      "outputs": [
        {
          "output_type": "stream",
          "name": "stdout",
          "text": [
            "\n",
            "\n",
            "Final dataset :\n",
            "\n"
          ]
        },
        {
          "output_type": "execute_result",
          "data": {
            "text/html": [
              "<div>\n",
              "<style scoped>\n",
              "    .dataframe tbody tr th:only-of-type {\n",
              "        vertical-align: middle;\n",
              "    }\n",
              "\n",
              "    .dataframe tbody tr th {\n",
              "        vertical-align: top;\n",
              "    }\n",
              "\n",
              "    .dataframe thead th {\n",
              "        text-align: right;\n",
              "    }\n",
              "</style>\n",
              "<table border=\"1\" class=\"dataframe\">\n",
              "  <thead>\n",
              "    <tr style=\"text-align: right;\">\n",
              "      <th></th>\n",
              "      <th>Outlook_O</th>\n",
              "      <th>Outlook_R</th>\n",
              "      <th>Outlook_S</th>\n",
              "      <th>Temp_C</th>\n",
              "      <th>Temp_H</th>\n",
              "      <th>Temp_M</th>\n",
              "      <th>Wind_F</th>\n",
              "      <th>Wind_T</th>\n",
              "      <th>Humidity_High</th>\n",
              "      <th>Humidity_Low</th>\n",
              "      <th>Humidity_Normal</th>\n",
              "      <th>Class</th>\n",
              "    </tr>\n",
              "  </thead>\n",
              "  <tbody>\n",
              "    <tr>\n",
              "      <th>0</th>\n",
              "      <td>0</td>\n",
              "      <td>1</td>\n",
              "      <td>0</td>\n",
              "      <td>0</td>\n",
              "      <td>1</td>\n",
              "      <td>0</td>\n",
              "      <td>1</td>\n",
              "      <td>0</td>\n",
              "      <td>0</td>\n",
              "      <td>0</td>\n",
              "      <td>1</td>\n",
              "      <td>N</td>\n",
              "    </tr>\n",
              "    <tr>\n",
              "      <th>1</th>\n",
              "      <td>0</td>\n",
              "      <td>1</td>\n",
              "      <td>0</td>\n",
              "      <td>0</td>\n",
              "      <td>1</td>\n",
              "      <td>0</td>\n",
              "      <td>0</td>\n",
              "      <td>1</td>\n",
              "      <td>1</td>\n",
              "      <td>0</td>\n",
              "      <td>0</td>\n",
              "      <td>N</td>\n",
              "    </tr>\n",
              "    <tr>\n",
              "      <th>2</th>\n",
              "      <td>1</td>\n",
              "      <td>0</td>\n",
              "      <td>0</td>\n",
              "      <td>0</td>\n",
              "      <td>1</td>\n",
              "      <td>0</td>\n",
              "      <td>1</td>\n",
              "      <td>0</td>\n",
              "      <td>0</td>\n",
              "      <td>0</td>\n",
              "      <td>1</td>\n",
              "      <td>Y</td>\n",
              "    </tr>\n",
              "    <tr>\n",
              "      <th>3</th>\n",
              "      <td>0</td>\n",
              "      <td>0</td>\n",
              "      <td>1</td>\n",
              "      <td>0</td>\n",
              "      <td>0</td>\n",
              "      <td>1</td>\n",
              "      <td>1</td>\n",
              "      <td>0</td>\n",
              "      <td>0</td>\n",
              "      <td>0</td>\n",
              "      <td>1</td>\n",
              "      <td>N</td>\n",
              "    </tr>\n",
              "    <tr>\n",
              "      <th>4</th>\n",
              "      <td>0</td>\n",
              "      <td>0</td>\n",
              "      <td>1</td>\n",
              "      <td>0</td>\n",
              "      <td>0</td>\n",
              "      <td>1</td>\n",
              "      <td>1</td>\n",
              "      <td>0</td>\n",
              "      <td>0</td>\n",
              "      <td>0</td>\n",
              "      <td>1</td>\n",
              "      <td>Y</td>\n",
              "    </tr>\n",
              "  </tbody>\n",
              "</table>\n",
              "</div>"
            ],
            "text/plain": [
              "   Outlook_O  Outlook_R  Outlook_S  ...  Humidity_Low  Humidity_Normal  Class\n",
              "0          0          1          0  ...             0                1      N\n",
              "1          0          1          0  ...             0                0      N\n",
              "2          1          0          0  ...             0                1      Y\n",
              "3          0          0          1  ...             0                1      N\n",
              "4          0          0          1  ...             0                1      Y\n",
              "\n",
              "[5 rows x 12 columns]"
            ]
          },
          "metadata": {},
          "execution_count": 9
        }
      ]
    },
    {
      "cell_type": "code",
      "metadata": {
        "colab": {
          "base_uri": "https://localhost:8080/"
        },
        "id": "8ca83d0d",
        "outputId": "cbc359dc-2222-44c8-d5eb-c86b9de5bb32"
      },
      "source": [
        "print(\"\\nLabel\\n\\n\")\n",
        "labels = dataset['Class']\n",
        "labels\n"
      ],
      "id": "8ca83d0d",
      "execution_count": 10,
      "outputs": [
        {
          "output_type": "stream",
          "name": "stdout",
          "text": [
            "\n",
            "Label\n",
            "\n",
            "\n"
          ]
        },
        {
          "output_type": "execute_result",
          "data": {
            "text/plain": [
              "0     N\n",
              "1     N\n",
              "2     Y\n",
              "3     N\n",
              "4     Y\n",
              "5     Y\n",
              "6     Y\n",
              "7     Y\n",
              "8     Y\n",
              "9     Y\n",
              "10    Y\n",
              "11    Y\n",
              "12    Y\n",
              "13    N\n",
              "Name: Class, dtype: object"
            ]
          },
          "metadata": {},
          "execution_count": 10
        }
      ]
    },
    {
      "cell_type": "code",
      "metadata": {
        "id": "3519c713"
      },
      "source": [
        "#split data set into train and test sets\n",
        "data_train, data_test, target_train, target_test = train_test_split(dataset.iloc[:,:-1],labels, test_size = 0.25, random_state = 86)\n",
        "# set Random state of model equals to your roll number\n",
        "#my roll number is 86"
      ],
      "id": "3519c713",
      "execution_count": 11,
      "outputs": []
    },
    {
      "cell_type": "code",
      "metadata": {
        "colab": {
          "base_uri": "https://localhost:8080/"
        },
        "id": "311f0a62",
        "outputId": "fc688f1c-a847-4f4c-e344-f954f1479029"
      },
      "source": [
        "# creating intsance\n",
        "gnb = GaussianNB()\n",
        "\n",
        "# fitting the model or training\n",
        "gnb.fit(data_train,target_train)"
      ],
      "id": "311f0a62",
      "execution_count": 12,
      "outputs": [
        {
          "output_type": "execute_result",
          "data": {
            "text/plain": [
              "GaussianNB(priors=None, var_smoothing=1e-09)"
            ]
          },
          "metadata": {},
          "execution_count": 12
        }
      ]
    },
    {
      "cell_type": "code",
      "metadata": {
        "id": "6ad72907"
      },
      "source": [
        "# testing\n",
        "target_predict = gnb.predict(data_test)"
      ],
      "id": "6ad72907",
      "execution_count": 13,
      "outputs": []
    },
    {
      "cell_type": "code",
      "metadata": {
        "colab": {
          "base_uri": "https://localhost:8080/"
        },
        "id": "ff5c0f67",
        "outputId": "b92439bd-a7f1-4df6-c0c0-d91463ac05aa"
      },
      "source": [
        "# Accuracy\n",
        "Accuracy = accuracy_score(target_test, target_predict)\n",
        "print(\"Accuracy:\", Accuracy)"
      ],
      "id": "ff5c0f67",
      "execution_count": 14,
      "outputs": [
        {
          "output_type": "stream",
          "name": "stdout",
          "text": [
            "Accuracy: 1.0\n"
          ]
        }
      ]
    },
    {
      "cell_type": "code",
      "metadata": {
        "colab": {
          "base_uri": "https://localhost:8080/"
        },
        "id": "536aae6e",
        "outputId": "b6393359-6b0f-46d1-bf11-049f236f8e8f"
      },
      "source": [
        "\n",
        "# Confusion Matrix\n",
        "cm = confusion_matrix(target_test, target_predict)\n",
        "print(\"Confusion Matrix:\\n\")\n",
        "cm"
      ],
      "id": "536aae6e",
      "execution_count": 15,
      "outputs": [
        {
          "output_type": "stream",
          "name": "stdout",
          "text": [
            "Confusion Matrix:\n",
            "\n"
          ]
        },
        {
          "output_type": "execute_result",
          "data": {
            "text/plain": [
              "array([[1, 0],\n",
              "       [0, 3]])"
            ]
          },
          "metadata": {},
          "execution_count": 15
        }
      ]
    },
    {
      "cell_type": "code",
      "metadata": {
        "colab": {
          "base_uri": "https://localhost:8080/"
        },
        "id": "8d263c78",
        "outputId": "3cb2f3a0-5099-4f13-95b8-38adb9cd9564"
      },
      "source": [
        "# Precision\n",
        "precision = precision_score(target_test, target_predict, average=None)\n",
        "print(\"Precision:\\n\")\n",
        "precision"
      ],
      "id": "8d263c78",
      "execution_count": 16,
      "outputs": [
        {
          "output_type": "stream",
          "name": "stdout",
          "text": [
            "Precision:\n",
            "\n"
          ]
        },
        {
          "output_type": "execute_result",
          "data": {
            "text/plain": [
              "array([1., 1.])"
            ]
          },
          "metadata": {},
          "execution_count": 16
        }
      ]
    },
    {
      "cell_type": "code",
      "metadata": {
        "colab": {
          "base_uri": "https://localhost:8080/"
        },
        "id": "071fb69f",
        "outputId": "e6f693c7-bf62-4a01-b39a-acf36de64d00"
      },
      "source": [
        "# Recall\n",
        "recall = recall_score(target_test, target_predict, average=None)\n",
        "print(\"Recall:\\n\")\n",
        "recall"
      ],
      "id": "071fb69f",
      "execution_count": 17,
      "outputs": [
        {
          "output_type": "stream",
          "name": "stdout",
          "text": [
            "Recall:\n",
            "\n"
          ]
        },
        {
          "output_type": "execute_result",
          "data": {
            "text/plain": [
              "array([1., 1.])"
            ]
          },
          "metadata": {},
          "execution_count": 17
        }
      ]
    },
    {
      "cell_type": "markdown",
      "metadata": {
        "id": "d060215b"
      },
      "source": [
        "#Task 2: Apply algorithm on wine dataset - LabelEncoding of features: and Train test Division 80%-20%"
      ],
      "id": "d060215b"
    },
    {
      "cell_type": "code",
      "metadata": {
        "id": "afe349b6"
      },
      "source": [
        "import pandas as pd\n",
        "import numpy as np\n",
        "import matplotlib.pyplot as plt\n",
        "from sklearn.preprocessing import LabelEncoder # not used as data is already numerical\n",
        "from sklearn.naive_bayes import MultinomialNB\n",
        "from sklearn.model_selection import train_test_split\n",
        "from sklearn.metrics import accuracy_score, confusion_matrix\n",
        "from sklearn import datasets\n",
        "from sklearn import metrics"
      ],
      "id": "afe349b6",
      "execution_count": 18,
      "outputs": []
    },
    {
      "cell_type": "code",
      "metadata": {
        "colab": {
          "base_uri": "https://localhost:8080/"
        },
        "id": "c64683f4",
        "outputId": "8c265a0a-1826-4a79-f6a7-c6c6e5421131"
      },
      "source": [
        "wine = datasets.load_wine()\n",
        "print(\"Number of examples and feature:\", wine.data.shape)\n",
        "dataset = pd.DataFrame(wine.data)"
      ],
      "id": "c64683f4",
      "execution_count": 19,
      "outputs": [
        {
          "output_type": "stream",
          "name": "stdout",
          "text": [
            "Number of examples and feature: (178, 13)\n"
          ]
        }
      ]
    },
    {
      "cell_type": "code",
      "metadata": {
        "colab": {
          "base_uri": "https://localhost:8080/"
        },
        "id": "48439b3b",
        "outputId": "6a9519d5-1683-42dd-d9d0-391bd01308d6"
      },
      "source": [
        "print(\"Features: \", wine.data)\n",
        "print(\"Labels: \", np.unique(wine.target))\n"
      ],
      "id": "48439b3b",
      "execution_count": 20,
      "outputs": [
        {
          "output_type": "stream",
          "name": "stdout",
          "text": [
            "Features:  [[1.423e+01 1.710e+00 2.430e+00 ... 1.040e+00 3.920e+00 1.065e+03]\n",
            " [1.320e+01 1.780e+00 2.140e+00 ... 1.050e+00 3.400e+00 1.050e+03]\n",
            " [1.316e+01 2.360e+00 2.670e+00 ... 1.030e+00 3.170e+00 1.185e+03]\n",
            " ...\n",
            " [1.327e+01 4.280e+00 2.260e+00 ... 5.900e-01 1.560e+00 8.350e+02]\n",
            " [1.317e+01 2.590e+00 2.370e+00 ... 6.000e-01 1.620e+00 8.400e+02]\n",
            " [1.413e+01 4.100e+00 2.740e+00 ... 6.100e-01 1.600e+00 5.600e+02]]\n",
            "Labels:  [0 1 2]\n"
          ]
        }
      ]
    },
    {
      "cell_type": "code",
      "metadata": {
        "id": "e95cd71d"
      },
      "source": [
        "#split data set into train and test sets\n",
        "data_train, data_test, target_train, target_test = train_test_split(wine.data,\n",
        "                        wine.target, test_size = 0.20, random_state = 86) \n",
        "#86 roll number"
      ],
      "id": "e95cd71d",
      "execution_count": 21,
      "outputs": []
    },
    {
      "cell_type": "code",
      "metadata": {
        "colab": {
          "base_uri": "https://localhost:8080/"
        },
        "id": "90c9d6d5",
        "outputId": "18c84dbe-9c44-4094-f031-dad765fc4e13"
      },
      "source": [
        "#Create a Classifier\n",
        "model=MultinomialNB()\n",
        "# Train the model using the training sets\n",
        "model.fit(data_train,target_train)"
      ],
      "id": "90c9d6d5",
      "execution_count": 22,
      "outputs": [
        {
          "output_type": "execute_result",
          "data": {
            "text/plain": [
              "MultinomialNB(alpha=1.0, class_prior=None, fit_prior=True)"
            ]
          },
          "metadata": {},
          "execution_count": 22
        }
      ]
    },
    {
      "cell_type": "code",
      "metadata": {
        "id": "309a1389"
      },
      "source": [
        "\n",
        "target_pred = model.predict(data_test)"
      ],
      "id": "309a1389",
      "execution_count": 23,
      "outputs": []
    },
    {
      "cell_type": "code",
      "metadata": {
        "colab": {
          "base_uri": "https://localhost:8080/"
        },
        "id": "7271d63c",
        "outputId": "d651f53e-22aa-40e6-e643-35bac92dbcd2"
      },
      "source": [
        "print(\"Accuracy:\",accuracy_score(target_test, target_pred))"
      ],
      "id": "7271d63c",
      "execution_count": 24,
      "outputs": [
        {
          "output_type": "stream",
          "name": "stdout",
          "text": [
            "Accuracy: 0.8611111111111112\n"
          ]
        }
      ]
    },
    {
      "cell_type": "code",
      "metadata": {
        "colab": {
          "base_uri": "https://localhost:8080/"
        },
        "id": "a50c5dad",
        "outputId": "a00d89c0-9f5f-4fd9-d0cc-5ffa2193ee5b"
      },
      "source": [
        "confusion_matrix(target_test, target_pred)"
      ],
      "id": "a50c5dad",
      "execution_count": 25,
      "outputs": [
        {
          "output_type": "execute_result",
          "data": {
            "text/plain": [
              "array([[ 9,  3,  0],\n",
              "       [ 1, 13,  0],\n",
              "       [ 0,  1,  9]])"
            ]
          },
          "metadata": {},
          "execution_count": 25
        }
      ]
    },
    {
      "cell_type": "code",
      "metadata": {
        "colab": {
          "base_uri": "https://localhost:8080/",
          "height": 375
        },
        "id": "974a37e9",
        "outputId": "9036c69d-4040-4f4c-eea6-ab25f108d2db"
      },
      "source": [
        "disp = metrics.plot_confusion_matrix(model, data_test, target_test)\n",
        "disp.figure_.suptitle(\"Confusion Matrix\")\n",
        "print(f\"Confusion matrix:\\n{disp.confusion_matrix}\")\n",
        "plt.show()"
      ],
      "id": "974a37e9",
      "execution_count": 26,
      "outputs": [
        {
          "output_type": "stream",
          "name": "stdout",
          "text": [
            "Confusion matrix:\n",
            "[[ 9  3  0]\n",
            " [ 1 13  0]\n",
            " [ 0  1  9]]\n"
          ]
        },
        {
          "output_type": "display_data",
          "data": {
            "image/png": "[encoded data removed]",
            "text/plain": [
              "<Figure size 432x288 with 2 Axes>"
            ]
          },
          "metadata": {
            "needs_background": "light"
          }
        }
      ]
    },
    {
      "cell_type": "code",
      "metadata": {
        "id": "b232a881"
      },
      "source": [
        ""
      ],
      "id": "b232a881",
      "execution_count": null,
      "outputs": []
    }
  ]
}